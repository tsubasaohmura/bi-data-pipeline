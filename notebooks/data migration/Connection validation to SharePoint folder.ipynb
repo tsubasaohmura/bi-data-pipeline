{
 "cells": [
  {
   "cell_type": "code",
   "execution_count": 208,
   "id": "excellent-headquarters",
   "metadata": {},
   "outputs": [
    {
     "name": "stderr",
     "output_type": "stream",
     "text": [
      "c:\\users\\tsubasa.ohmura\\appdata\\local\\programs\\python\\python38\\lib\\site-packages\\ipykernel\\ipkernel.py:283: DeprecationWarning: `should_run_async` will not call `transform_cell` automatically in the future. Please pass the result to `transformed_cell` argument and any exception that happen during thetransform in `preprocessing_exc_tuple` in IPython 7.17 and above.\n",
      "  and should_run_async(code)\n"
     ]
    }
   ],
   "source": [
    "import os\n",
    "import smtplib\n",
    "from datetime import datetime, timedelta, date, timezone\n",
    "import calendar\n",
    "from smtplib import SMTPException\n",
    "from clickhouse_driver import Client\n",
    "from clickhouse_driver.errors import ServerException\n",
    "import snowflake.connector as snowflake\n",
    "from decimal import Decimal\n",
    "from sharepoint import SharePointSite, basic_auth_opener\n",
    "\n",
    "#add to pipeline\n",
    "import pandas as pd\n",
    "from pandas import merge\n",
    "from numpy import sum as npsum\n",
    "from numpy import ndarray\n",
    "import requests\n",
    "from requests.auth import HTTPBasicAuth\n",
    "from pprint import pprint\n",
    "import json, xmltodict\n",
    "from lxml.etree import parse\n",
    "import itertools\n",
    "\n",
    "#add as SFSF pipeline\n",
    "from re import match, search\n",
    "from numpy import nan, isnan\n",
    "#add as SFSF pipeline\n",
    "from pandas import DataFrame, json_normalize, to_datetime\n",
    "import requests\n",
    "from requests.auth import HTTPBasicAuth\n",
    "import json\n",
    "from re import match\n",
    "import sys\n",
    "\n",
    "\n",
    "# add as ar exe program\n",
    "import glob\n",
    "\n",
    "# !conda install -y pyautogui --channel conda-forge\n",
    "pd.set_option('display.max_columns', 100)\n",
    "pd.set_option('display.max_rows', 1000)"
   ]
  },
  {
   "cell_type": "code",
   "execution_count": 217,
   "id": "intense-parent",
   "metadata": {},
   "outputs": [
    {
     "name": "stderr",
     "output_type": "stream",
     "text": [
      "c:\\users\\tsubasa.ohmura\\appdata\\local\\programs\\python\\python38\\lib\\site-packages\\ipykernel\\ipkernel.py:283: DeprecationWarning: `should_run_async` will not call `transform_cell` automatically in the future. Please pass the result to `transformed_cell` argument and any exception that happen during thetransform in `preprocessing_exc_tuple` in IPython 7.17 and above.\n",
      "  and should_run_async(code)\n"
     ]
    }
   ],
   "source": [
    "server_url = 'https://ccbji.sharepoint.com/'\n",
    "site_url = server_url + \"sites/CSIIDivision-BI-INTAGE/Shared%20Documents/BI%20-%20INTAGE/BI-PlanoPOS/\"\n",
    "\n",
    "opener = basic_auth_opener(server_url, \"tsubasa.ohmura@ccbji.co.jp\", \"Namaka283\")\n",
    "site = SharePointSite(site_url, opener)"
   ]
  },
  {
   "cell_type": "code",
   "execution_count": 218,
   "id": "adjacent-binding",
   "metadata": {},
   "outputs": [
    {
     "name": "stderr",
     "output_type": "stream",
     "text": [
      "c:\\users\\tsubasa.ohmura\\appdata\\local\\programs\\python\\python38\\lib\\site-packages\\ipykernel\\ipkernel.py:283: DeprecationWarning: `should_run_async` will not call `transform_cell` automatically in the future. Please pass the result to `transformed_cell` argument and any exception that happen during thetransform in `preprocessing_exc_tuple` in IPython 7.17 and above.\n",
      "  and should_run_async(code)\n"
     ]
    },
    {
     "ename": "HTTPError",
     "evalue": "HTTP Error 404: Not Found",
     "output_type": "error",
     "traceback": [
      "\u001b[1;31m---------------------------------------------------------------------------\u001b[0m",
      "\u001b[1;31mHTTPError\u001b[0m                                 Traceback (most recent call last)",
      "\u001b[1;32m<ipython-input-218-551750260382>\u001b[0m in \u001b[0;36m<module>\u001b[1;34m\u001b[0m\n\u001b[1;32m----> 1\u001b[1;33m \u001b[1;32mfor\u001b[0m \u001b[0msp_list\u001b[0m \u001b[1;32min\u001b[0m \u001b[0msite\u001b[0m\u001b[1;33m.\u001b[0m\u001b[0mlists\u001b[0m\u001b[1;33m:\u001b[0m\u001b[1;33m\u001b[0m\u001b[1;33m\u001b[0m\u001b[0m\n\u001b[0m\u001b[0;32m      2\u001b[0m     \u001b[0mprint\u001b[0m \u001b[1;33m(\u001b[0m\u001b[0msp_list\u001b[0m\u001b[1;33m.\u001b[0m\u001b[0mid\u001b[0m\u001b[1;33m,\u001b[0m \u001b[0msp_list\u001b[0m\u001b[1;33m.\u001b[0m\u001b[0mmeta\u001b[0m\u001b[1;33m[\u001b[0m\u001b[1;34m'Title'\u001b[0m\u001b[1;33m]\u001b[0m\u001b[1;33m)\u001b[0m\u001b[1;33m\u001b[0m\u001b[1;33m\u001b[0m\u001b[0m\n",
      "\u001b[1;32mc:\\users\\tsubasa.ohmura\\appdata\\local\\programs\\python\\python38\\lib\\site-packages\\sharepoint\\lists\\__init__.py\u001b[0m in \u001b[0;36m__iter__\u001b[1;34m(self)\u001b[0m\n\u001b[0;32m     78\u001b[0m \u001b[1;33m\u001b[0m\u001b[0m\n\u001b[0;32m     79\u001b[0m     \u001b[1;32mdef\u001b[0m \u001b[0m__iter__\u001b[0m\u001b[1;33m(\u001b[0m\u001b[0mself\u001b[0m\u001b[1;33m)\u001b[0m\u001b[1;33m:\u001b[0m\u001b[1;33m\u001b[0m\u001b[1;33m\u001b[0m\u001b[0m\n\u001b[1;32m---> 80\u001b[1;33m         \u001b[1;32mreturn\u001b[0m \u001b[0miter\u001b[0m\u001b[1;33m(\u001b[0m\u001b[0mself\u001b[0m\u001b[1;33m.\u001b[0m\u001b[0mall_lists\u001b[0m\u001b[1;33m)\u001b[0m\u001b[1;33m\u001b[0m\u001b[1;33m\u001b[0m\u001b[0m\n\u001b[0m\u001b[0;32m     81\u001b[0m \u001b[1;33m\u001b[0m\u001b[0m\n\u001b[0;32m     82\u001b[0m     \u001b[1;32mdef\u001b[0m \u001b[0m__getitem__\u001b[0m\u001b[1;33m(\u001b[0m\u001b[0mself\u001b[0m\u001b[1;33m,\u001b[0m \u001b[0mkey\u001b[0m\u001b[1;33m)\u001b[0m\u001b[1;33m:\u001b[0m\u001b[1;33m\u001b[0m\u001b[1;33m\u001b[0m\u001b[0m\n",
      "\u001b[1;32mc:\\users\\tsubasa.ohmura\\appdata\\local\\programs\\python\\python38\\lib\\site-packages\\sharepoint\\lists\\__init__.py\u001b[0m in \u001b[0;36mall_lists\u001b[1;34m(self)\u001b[0m\n\u001b[0;32m     34\u001b[0m         \u001b[1;32mif\u001b[0m \u001b[1;32mnot\u001b[0m \u001b[0mhasattr\u001b[0m\u001b[1;33m(\u001b[0m\u001b[0mself\u001b[0m\u001b[1;33m,\u001b[0m \u001b[1;34m'_all_lists'\u001b[0m\u001b[1;33m)\u001b[0m\u001b[1;33m:\u001b[0m\u001b[1;33m\u001b[0m\u001b[1;33m\u001b[0m\u001b[0m\n\u001b[0;32m     35\u001b[0m             \u001b[0mxml\u001b[0m \u001b[1;33m=\u001b[0m \u001b[0mSP\u001b[0m\u001b[1;33m.\u001b[0m\u001b[0mGetListCollection\u001b[0m\u001b[1;33m(\u001b[0m\u001b[1;33m)\u001b[0m\u001b[1;33m\u001b[0m\u001b[1;33m\u001b[0m\u001b[0m\n\u001b[1;32m---> 36\u001b[1;33m             \u001b[0mresult\u001b[0m \u001b[1;33m=\u001b[0m \u001b[0mself\u001b[0m\u001b[1;33m.\u001b[0m\u001b[0mopener\u001b[0m\u001b[1;33m.\u001b[0m\u001b[0mpost_soap\u001b[0m\u001b[1;33m(\u001b[0m\u001b[0mLIST_WEBSERVICE\u001b[0m\u001b[1;33m,\u001b[0m \u001b[0mxml\u001b[0m\u001b[1;33m)\u001b[0m\u001b[1;33m\u001b[0m\u001b[1;33m\u001b[0m\u001b[0m\n\u001b[0m\u001b[0;32m     37\u001b[0m \u001b[1;33m\u001b[0m\u001b[0m\n\u001b[0;32m     38\u001b[0m             \u001b[0mself\u001b[0m\u001b[1;33m.\u001b[0m\u001b[0m_all_lists\u001b[0m \u001b[1;33m=\u001b[0m \u001b[1;33m[\u001b[0m\u001b[1;33m]\u001b[0m\u001b[1;33m\u001b[0m\u001b[1;33m\u001b[0m\u001b[0m\n",
      "\u001b[1;32mc:\\users\\tsubasa.ohmura\\appdata\\local\\programs\\python\\python38\\lib\\site-packages\\sharepoint\\site.py\u001b[0m in \u001b[0;36mpost_soap\u001b[1;34m(self, url, xml, soapaction)\u001b[0m\n\u001b[0;32m     30\u001b[0m         \u001b[1;32mif\u001b[0m \u001b[0msoapaction\u001b[0m\u001b[1;33m:\u001b[0m\u001b[1;33m\u001b[0m\u001b[1;33m\u001b[0m\u001b[0m\n\u001b[0;32m     31\u001b[0m             \u001b[0mrequest\u001b[0m\u001b[1;33m.\u001b[0m\u001b[0madd_header\u001b[0m\u001b[1;33m(\u001b[0m\u001b[1;34m'Soapaction'\u001b[0m\u001b[1;33m,\u001b[0m \u001b[0msoapaction\u001b[0m\u001b[1;33m)\u001b[0m\u001b[1;33m\u001b[0m\u001b[1;33m\u001b[0m\u001b[0m\n\u001b[1;32m---> 32\u001b[1;33m         \u001b[0mresponse\u001b[0m \u001b[1;33m=\u001b[0m \u001b[0mself\u001b[0m\u001b[1;33m.\u001b[0m\u001b[0mopener\u001b[0m\u001b[1;33m.\u001b[0m\u001b[0mopen\u001b[0m\u001b[1;33m(\u001b[0m\u001b[0mrequest\u001b[0m\u001b[1;33m,\u001b[0m \u001b[0mtimeout\u001b[0m\u001b[1;33m=\u001b[0m\u001b[0mself\u001b[0m\u001b[1;33m.\u001b[0m\u001b[0mtimeout\u001b[0m\u001b[1;33m)\u001b[0m\u001b[1;33m\u001b[0m\u001b[1;33m\u001b[0m\u001b[0m\n\u001b[0m\u001b[0;32m     33\u001b[0m         \u001b[1;32mreturn\u001b[0m \u001b[0metree\u001b[0m\u001b[1;33m.\u001b[0m\u001b[0mparse\u001b[0m\u001b[1;33m(\u001b[0m\u001b[0mresponse\u001b[0m\u001b[1;33m)\u001b[0m\u001b[1;33m.\u001b[0m\u001b[0mxpath\u001b[0m\u001b[1;33m(\u001b[0m\u001b[1;34m'/soap:Envelope/soap:Body/*'\u001b[0m\u001b[1;33m,\u001b[0m \u001b[0mnamespaces\u001b[0m\u001b[1;33m=\u001b[0m\u001b[0mnamespaces\u001b[0m\u001b[1;33m)\u001b[0m\u001b[1;33m[\u001b[0m\u001b[1;36m0\u001b[0m\u001b[1;33m]\u001b[0m\u001b[1;33m\u001b[0m\u001b[1;33m\u001b[0m\u001b[0m\n\u001b[0;32m     34\u001b[0m \u001b[1;33m\u001b[0m\u001b[0m\n",
      "\u001b[1;32mc:\\users\\tsubasa.ohmura\\appdata\\local\\programs\\python\\python38\\lib\\urllib\\request.py\u001b[0m in \u001b[0;36mopen\u001b[1;34m(self, fullurl, data, timeout)\u001b[0m\n\u001b[0;32m    529\u001b[0m         \u001b[1;32mfor\u001b[0m \u001b[0mprocessor\u001b[0m \u001b[1;32min\u001b[0m \u001b[0mself\u001b[0m\u001b[1;33m.\u001b[0m\u001b[0mprocess_response\u001b[0m\u001b[1;33m.\u001b[0m\u001b[0mget\u001b[0m\u001b[1;33m(\u001b[0m\u001b[0mprotocol\u001b[0m\u001b[1;33m,\u001b[0m \u001b[1;33m[\u001b[0m\u001b[1;33m]\u001b[0m\u001b[1;33m)\u001b[0m\u001b[1;33m:\u001b[0m\u001b[1;33m\u001b[0m\u001b[1;33m\u001b[0m\u001b[0m\n\u001b[0;32m    530\u001b[0m             \u001b[0mmeth\u001b[0m \u001b[1;33m=\u001b[0m \u001b[0mgetattr\u001b[0m\u001b[1;33m(\u001b[0m\u001b[0mprocessor\u001b[0m\u001b[1;33m,\u001b[0m \u001b[0mmeth_name\u001b[0m\u001b[1;33m)\u001b[0m\u001b[1;33m\u001b[0m\u001b[1;33m\u001b[0m\u001b[0m\n\u001b[1;32m--> 531\u001b[1;33m             \u001b[0mresponse\u001b[0m \u001b[1;33m=\u001b[0m \u001b[0mmeth\u001b[0m\u001b[1;33m(\u001b[0m\u001b[0mreq\u001b[0m\u001b[1;33m,\u001b[0m \u001b[0mresponse\u001b[0m\u001b[1;33m)\u001b[0m\u001b[1;33m\u001b[0m\u001b[1;33m\u001b[0m\u001b[0m\n\u001b[0m\u001b[0;32m    532\u001b[0m \u001b[1;33m\u001b[0m\u001b[0m\n\u001b[0;32m    533\u001b[0m         \u001b[1;32mreturn\u001b[0m \u001b[0mresponse\u001b[0m\u001b[1;33m\u001b[0m\u001b[1;33m\u001b[0m\u001b[0m\n",
      "\u001b[1;32mc:\\users\\tsubasa.ohmura\\appdata\\local\\programs\\python\\python38\\lib\\urllib\\request.py\u001b[0m in \u001b[0;36mhttp_response\u001b[1;34m(self, request, response)\u001b[0m\n\u001b[0;32m    638\u001b[0m         \u001b[1;31m# request was successfully received, understood, and accepted.\u001b[0m\u001b[1;33m\u001b[0m\u001b[1;33m\u001b[0m\u001b[1;33m\u001b[0m\u001b[0m\n\u001b[0;32m    639\u001b[0m         \u001b[1;32mif\u001b[0m \u001b[1;32mnot\u001b[0m \u001b[1;33m(\u001b[0m\u001b[1;36m200\u001b[0m \u001b[1;33m<=\u001b[0m \u001b[0mcode\u001b[0m \u001b[1;33m<\u001b[0m \u001b[1;36m300\u001b[0m\u001b[1;33m)\u001b[0m\u001b[1;33m:\u001b[0m\u001b[1;33m\u001b[0m\u001b[1;33m\u001b[0m\u001b[0m\n\u001b[1;32m--> 640\u001b[1;33m             response = self.parent.error(\n\u001b[0m\u001b[0;32m    641\u001b[0m                 'http', request, response, code, msg, hdrs)\n\u001b[0;32m    642\u001b[0m \u001b[1;33m\u001b[0m\u001b[0m\n",
      "\u001b[1;32mc:\\users\\tsubasa.ohmura\\appdata\\local\\programs\\python\\python38\\lib\\urllib\\request.py\u001b[0m in \u001b[0;36merror\u001b[1;34m(self, proto, *args)\u001b[0m\n\u001b[0;32m    567\u001b[0m         \u001b[1;32mif\u001b[0m \u001b[0mhttp_err\u001b[0m\u001b[1;33m:\u001b[0m\u001b[1;33m\u001b[0m\u001b[1;33m\u001b[0m\u001b[0m\n\u001b[0;32m    568\u001b[0m             \u001b[0margs\u001b[0m \u001b[1;33m=\u001b[0m \u001b[1;33m(\u001b[0m\u001b[0mdict\u001b[0m\u001b[1;33m,\u001b[0m \u001b[1;34m'default'\u001b[0m\u001b[1;33m,\u001b[0m \u001b[1;34m'http_error_default'\u001b[0m\u001b[1;33m)\u001b[0m \u001b[1;33m+\u001b[0m \u001b[0morig_args\u001b[0m\u001b[1;33m\u001b[0m\u001b[1;33m\u001b[0m\u001b[0m\n\u001b[1;32m--> 569\u001b[1;33m             \u001b[1;32mreturn\u001b[0m \u001b[0mself\u001b[0m\u001b[1;33m.\u001b[0m\u001b[0m_call_chain\u001b[0m\u001b[1;33m(\u001b[0m\u001b[1;33m*\u001b[0m\u001b[0margs\u001b[0m\u001b[1;33m)\u001b[0m\u001b[1;33m\u001b[0m\u001b[1;33m\u001b[0m\u001b[0m\n\u001b[0m\u001b[0;32m    570\u001b[0m \u001b[1;33m\u001b[0m\u001b[0m\n\u001b[0;32m    571\u001b[0m \u001b[1;31m# XXX probably also want an abstract factory that knows when it makes\u001b[0m\u001b[1;33m\u001b[0m\u001b[1;33m\u001b[0m\u001b[1;33m\u001b[0m\u001b[0m\n",
      "\u001b[1;32mc:\\users\\tsubasa.ohmura\\appdata\\local\\programs\\python\\python38\\lib\\urllib\\request.py\u001b[0m in \u001b[0;36m_call_chain\u001b[1;34m(self, chain, kind, meth_name, *args)\u001b[0m\n\u001b[0;32m    500\u001b[0m         \u001b[1;32mfor\u001b[0m \u001b[0mhandler\u001b[0m \u001b[1;32min\u001b[0m \u001b[0mhandlers\u001b[0m\u001b[1;33m:\u001b[0m\u001b[1;33m\u001b[0m\u001b[1;33m\u001b[0m\u001b[0m\n\u001b[0;32m    501\u001b[0m             \u001b[0mfunc\u001b[0m \u001b[1;33m=\u001b[0m \u001b[0mgetattr\u001b[0m\u001b[1;33m(\u001b[0m\u001b[0mhandler\u001b[0m\u001b[1;33m,\u001b[0m \u001b[0mmeth_name\u001b[0m\u001b[1;33m)\u001b[0m\u001b[1;33m\u001b[0m\u001b[1;33m\u001b[0m\u001b[0m\n\u001b[1;32m--> 502\u001b[1;33m             \u001b[0mresult\u001b[0m \u001b[1;33m=\u001b[0m \u001b[0mfunc\u001b[0m\u001b[1;33m(\u001b[0m\u001b[1;33m*\u001b[0m\u001b[0margs\u001b[0m\u001b[1;33m)\u001b[0m\u001b[1;33m\u001b[0m\u001b[1;33m\u001b[0m\u001b[0m\n\u001b[0m\u001b[0;32m    503\u001b[0m             \u001b[1;32mif\u001b[0m \u001b[0mresult\u001b[0m \u001b[1;32mis\u001b[0m \u001b[1;32mnot\u001b[0m \u001b[1;32mNone\u001b[0m\u001b[1;33m:\u001b[0m\u001b[1;33m\u001b[0m\u001b[1;33m\u001b[0m\u001b[0m\n\u001b[0;32m    504\u001b[0m                 \u001b[1;32mreturn\u001b[0m \u001b[0mresult\u001b[0m\u001b[1;33m\u001b[0m\u001b[1;33m\u001b[0m\u001b[0m\n",
      "\u001b[1;32mc:\\users\\tsubasa.ohmura\\appdata\\local\\programs\\python\\python38\\lib\\urllib\\request.py\u001b[0m in \u001b[0;36mhttp_error_default\u001b[1;34m(self, req, fp, code, msg, hdrs)\u001b[0m\n\u001b[0;32m    647\u001b[0m \u001b[1;32mclass\u001b[0m \u001b[0mHTTPDefaultErrorHandler\u001b[0m\u001b[1;33m(\u001b[0m\u001b[0mBaseHandler\u001b[0m\u001b[1;33m)\u001b[0m\u001b[1;33m:\u001b[0m\u001b[1;33m\u001b[0m\u001b[1;33m\u001b[0m\u001b[0m\n\u001b[0;32m    648\u001b[0m     \u001b[1;32mdef\u001b[0m \u001b[0mhttp_error_default\u001b[0m\u001b[1;33m(\u001b[0m\u001b[0mself\u001b[0m\u001b[1;33m,\u001b[0m \u001b[0mreq\u001b[0m\u001b[1;33m,\u001b[0m \u001b[0mfp\u001b[0m\u001b[1;33m,\u001b[0m \u001b[0mcode\u001b[0m\u001b[1;33m,\u001b[0m \u001b[0mmsg\u001b[0m\u001b[1;33m,\u001b[0m \u001b[0mhdrs\u001b[0m\u001b[1;33m)\u001b[0m\u001b[1;33m:\u001b[0m\u001b[1;33m\u001b[0m\u001b[1;33m\u001b[0m\u001b[0m\n\u001b[1;32m--> 649\u001b[1;33m         \u001b[1;32mraise\u001b[0m \u001b[0mHTTPError\u001b[0m\u001b[1;33m(\u001b[0m\u001b[0mreq\u001b[0m\u001b[1;33m.\u001b[0m\u001b[0mfull_url\u001b[0m\u001b[1;33m,\u001b[0m \u001b[0mcode\u001b[0m\u001b[1;33m,\u001b[0m \u001b[0mmsg\u001b[0m\u001b[1;33m,\u001b[0m \u001b[0mhdrs\u001b[0m\u001b[1;33m,\u001b[0m \u001b[0mfp\u001b[0m\u001b[1;33m)\u001b[0m\u001b[1;33m\u001b[0m\u001b[1;33m\u001b[0m\u001b[0m\n\u001b[0m\u001b[0;32m    650\u001b[0m \u001b[1;33m\u001b[0m\u001b[0m\n\u001b[0;32m    651\u001b[0m \u001b[1;32mclass\u001b[0m \u001b[0mHTTPRedirectHandler\u001b[0m\u001b[1;33m(\u001b[0m\u001b[0mBaseHandler\u001b[0m\u001b[1;33m)\u001b[0m\u001b[1;33m:\u001b[0m\u001b[1;33m\u001b[0m\u001b[1;33m\u001b[0m\u001b[0m\n",
      "\u001b[1;31mHTTPError\u001b[0m: HTTP Error 404: Not Found"
     ]
    }
   ],
   "source": [
    "for sp_list in site.lists:\n",
    "    print (sp_list.id, sp_list.meta['Title'])"
   ]
  },
  {
   "cell_type": "code",
   "execution_count": null,
   "id": "young-movie",
   "metadata": {},
   "outputs": [],
   "source": []
  },
  {
   "cell_type": "code",
   "execution_count": null,
   "id": "incident-portuguese",
   "metadata": {},
   "outputs": [],
   "source": []
  },
  {
   "cell_type": "code",
   "execution_count": null,
   "id": "given-marina",
   "metadata": {},
   "outputs": [],
   "source": []
  },
  {
   "cell_type": "code",
   "execution_count": null,
   "id": "turned-willow",
   "metadata": {},
   "outputs": [],
   "source": []
  },
  {
   "cell_type": "code",
   "execution_count": 219,
   "id": "confidential-margin",
   "metadata": {
    "scrolled": true
   },
   "outputs": [
    {
     "name": "stderr",
     "output_type": "stream",
     "text": [
      "c:\\users\\tsubasa.ohmura\\appdata\\local\\programs\\python\\python38\\lib\\site-packages\\ipykernel\\ipkernel.py:283: DeprecationWarning: `should_run_async` will not call `transform_cell` automatically in the future. Please pass the result to `transformed_cell` argument and any exception that happen during thetransform in `preprocessing_exc_tuple` in IPython 7.17 and above.\n",
      "  and should_run_async(code)\n"
     ]
    },
    {
     "name": "stdout",
     "output_type": "stream",
     "text": [
      "Authentication successful\n"
     ]
    },
    {
     "ename": "XLRDError",
     "evalue": "Unsupported format, or corrupt file: Expected BOF record; found b'\\r\\n<!DOCT'",
     "output_type": "error",
     "traceback": [
      "\u001b[1;31m---------------------------------------------------------------------------\u001b[0m",
      "\u001b[1;31mXLRDError\u001b[0m                                 Traceback (most recent call last)",
      "\u001b[1;32m<ipython-input-219-2340e7f1fc31>\u001b[0m in \u001b[0;36m<module>\u001b[1;34m\u001b[0m\n\u001b[0;32m     27\u001b[0m \u001b[1;33m\u001b[0m\u001b[0m\n\u001b[0;32m     28\u001b[0m \u001b[1;31m#read excel file and each sheet into pandas dataframe\u001b[0m\u001b[1;33m\u001b[0m\u001b[1;33m\u001b[0m\u001b[1;33m\u001b[0m\u001b[0m\n\u001b[1;32m---> 29\u001b[1;33m \u001b[0mdf\u001b[0m \u001b[1;33m=\u001b[0m \u001b[0mpd\u001b[0m\u001b[1;33m.\u001b[0m\u001b[0mread_excel\u001b[0m\u001b[1;33m(\u001b[0m\u001b[0mbytes_file_obj\u001b[0m\u001b[1;33m,\u001b[0m \u001b[0msheet_number\u001b[0m\u001b[1;33m=\u001b[0m\u001b[1;36m0\u001b[0m\u001b[1;33m)\u001b[0m\u001b[1;33m\u001b[0m\u001b[1;33m\u001b[0m\u001b[0m\n\u001b[0m",
      "\u001b[1;32mc:\\users\\tsubasa.ohmura\\appdata\\local\\programs\\python\\python38\\lib\\site-packages\\pandas\\io\\excel\\_base.py\u001b[0m in \u001b[0;36mread_excel\u001b[1;34m(io, sheet_name, header, names, index_col, usecols, squeeze, dtype, engine, converters, true_values, false_values, skiprows, nrows, na_values, keep_default_na, verbose, parse_dates, date_parser, thousands, comment, skipfooter, convert_float, mangle_dupe_cols, **kwds)\u001b[0m\n\u001b[0;32m    302\u001b[0m \u001b[1;33m\u001b[0m\u001b[0m\n\u001b[0;32m    303\u001b[0m     \u001b[1;32mif\u001b[0m \u001b[1;32mnot\u001b[0m \u001b[0misinstance\u001b[0m\u001b[1;33m(\u001b[0m\u001b[0mio\u001b[0m\u001b[1;33m,\u001b[0m \u001b[0mExcelFile\u001b[0m\u001b[1;33m)\u001b[0m\u001b[1;33m:\u001b[0m\u001b[1;33m\u001b[0m\u001b[1;33m\u001b[0m\u001b[0m\n\u001b[1;32m--> 304\u001b[1;33m         \u001b[0mio\u001b[0m \u001b[1;33m=\u001b[0m \u001b[0mExcelFile\u001b[0m\u001b[1;33m(\u001b[0m\u001b[0mio\u001b[0m\u001b[1;33m,\u001b[0m \u001b[0mengine\u001b[0m\u001b[1;33m=\u001b[0m\u001b[0mengine\u001b[0m\u001b[1;33m)\u001b[0m\u001b[1;33m\u001b[0m\u001b[1;33m\u001b[0m\u001b[0m\n\u001b[0m\u001b[0;32m    305\u001b[0m     \u001b[1;32melif\u001b[0m \u001b[0mengine\u001b[0m \u001b[1;32mand\u001b[0m \u001b[0mengine\u001b[0m \u001b[1;33m!=\u001b[0m \u001b[0mio\u001b[0m\u001b[1;33m.\u001b[0m\u001b[0mengine\u001b[0m\u001b[1;33m:\u001b[0m\u001b[1;33m\u001b[0m\u001b[1;33m\u001b[0m\u001b[0m\n\u001b[0;32m    306\u001b[0m         raise ValueError(\n",
      "\u001b[1;32mc:\\users\\tsubasa.ohmura\\appdata\\local\\programs\\python\\python38\\lib\\site-packages\\pandas\\io\\excel\\_base.py\u001b[0m in \u001b[0;36m__init__\u001b[1;34m(self, io, engine)\u001b[0m\n\u001b[0;32m    822\u001b[0m         \u001b[0mself\u001b[0m\u001b[1;33m.\u001b[0m\u001b[0m_io\u001b[0m \u001b[1;33m=\u001b[0m \u001b[0mstringify_path\u001b[0m\u001b[1;33m(\u001b[0m\u001b[0mio\u001b[0m\u001b[1;33m)\u001b[0m\u001b[1;33m\u001b[0m\u001b[1;33m\u001b[0m\u001b[0m\n\u001b[0;32m    823\u001b[0m \u001b[1;33m\u001b[0m\u001b[0m\n\u001b[1;32m--> 824\u001b[1;33m         \u001b[0mself\u001b[0m\u001b[1;33m.\u001b[0m\u001b[0m_reader\u001b[0m \u001b[1;33m=\u001b[0m \u001b[0mself\u001b[0m\u001b[1;33m.\u001b[0m\u001b[0m_engines\u001b[0m\u001b[1;33m[\u001b[0m\u001b[0mengine\u001b[0m\u001b[1;33m]\u001b[0m\u001b[1;33m(\u001b[0m\u001b[0mself\u001b[0m\u001b[1;33m.\u001b[0m\u001b[0m_io\u001b[0m\u001b[1;33m)\u001b[0m\u001b[1;33m\u001b[0m\u001b[1;33m\u001b[0m\u001b[0m\n\u001b[0m\u001b[0;32m    825\u001b[0m \u001b[1;33m\u001b[0m\u001b[0m\n\u001b[0;32m    826\u001b[0m     \u001b[1;32mdef\u001b[0m \u001b[0m__fspath__\u001b[0m\u001b[1;33m(\u001b[0m\u001b[0mself\u001b[0m\u001b[1;33m)\u001b[0m\u001b[1;33m:\u001b[0m\u001b[1;33m\u001b[0m\u001b[1;33m\u001b[0m\u001b[0m\n",
      "\u001b[1;32mc:\\users\\tsubasa.ohmura\\appdata\\local\\programs\\python\\python38\\lib\\site-packages\\pandas\\io\\excel\\_xlrd.py\u001b[0m in \u001b[0;36m__init__\u001b[1;34m(self, filepath_or_buffer)\u001b[0m\n\u001b[0;32m     19\u001b[0m         \u001b[0merr_msg\u001b[0m \u001b[1;33m=\u001b[0m \u001b[1;34m\"Install xlrd >= 1.0.0 for Excel support\"\u001b[0m\u001b[1;33m\u001b[0m\u001b[1;33m\u001b[0m\u001b[0m\n\u001b[0;32m     20\u001b[0m         \u001b[0mimport_optional_dependency\u001b[0m\u001b[1;33m(\u001b[0m\u001b[1;34m\"xlrd\"\u001b[0m\u001b[1;33m,\u001b[0m \u001b[0mextra\u001b[0m\u001b[1;33m=\u001b[0m\u001b[0merr_msg\u001b[0m\u001b[1;33m)\u001b[0m\u001b[1;33m\u001b[0m\u001b[1;33m\u001b[0m\u001b[0m\n\u001b[1;32m---> 21\u001b[1;33m         \u001b[0msuper\u001b[0m\u001b[1;33m(\u001b[0m\u001b[1;33m)\u001b[0m\u001b[1;33m.\u001b[0m\u001b[0m__init__\u001b[0m\u001b[1;33m(\u001b[0m\u001b[0mfilepath_or_buffer\u001b[0m\u001b[1;33m)\u001b[0m\u001b[1;33m\u001b[0m\u001b[1;33m\u001b[0m\u001b[0m\n\u001b[0m\u001b[0;32m     22\u001b[0m \u001b[1;33m\u001b[0m\u001b[0m\n\u001b[0;32m     23\u001b[0m     \u001b[1;33m@\u001b[0m\u001b[0mproperty\u001b[0m\u001b[1;33m\u001b[0m\u001b[1;33m\u001b[0m\u001b[0m\n",
      "\u001b[1;32mc:\\users\\tsubasa.ohmura\\appdata\\local\\programs\\python\\python38\\lib\\site-packages\\pandas\\io\\excel\\_base.py\u001b[0m in \u001b[0;36m__init__\u001b[1;34m(self, filepath_or_buffer)\u001b[0m\n\u001b[0;32m    349\u001b[0m             \u001b[1;31m# N.B. xlrd.Book has a read attribute too\u001b[0m\u001b[1;33m\u001b[0m\u001b[1;33m\u001b[0m\u001b[1;33m\u001b[0m\u001b[0m\n\u001b[0;32m    350\u001b[0m             \u001b[0mfilepath_or_buffer\u001b[0m\u001b[1;33m.\u001b[0m\u001b[0mseek\u001b[0m\u001b[1;33m(\u001b[0m\u001b[1;36m0\u001b[0m\u001b[1;33m)\u001b[0m\u001b[1;33m\u001b[0m\u001b[1;33m\u001b[0m\u001b[0m\n\u001b[1;32m--> 351\u001b[1;33m             \u001b[0mself\u001b[0m\u001b[1;33m.\u001b[0m\u001b[0mbook\u001b[0m \u001b[1;33m=\u001b[0m \u001b[0mself\u001b[0m\u001b[1;33m.\u001b[0m\u001b[0mload_workbook\u001b[0m\u001b[1;33m(\u001b[0m\u001b[0mfilepath_or_buffer\u001b[0m\u001b[1;33m)\u001b[0m\u001b[1;33m\u001b[0m\u001b[1;33m\u001b[0m\u001b[0m\n\u001b[0m\u001b[0;32m    352\u001b[0m         \u001b[1;32melif\u001b[0m \u001b[0misinstance\u001b[0m\u001b[1;33m(\u001b[0m\u001b[0mfilepath_or_buffer\u001b[0m\u001b[1;33m,\u001b[0m \u001b[0mstr\u001b[0m\u001b[1;33m)\u001b[0m\u001b[1;33m:\u001b[0m\u001b[1;33m\u001b[0m\u001b[1;33m\u001b[0m\u001b[0m\n\u001b[0;32m    353\u001b[0m             \u001b[0mself\u001b[0m\u001b[1;33m.\u001b[0m\u001b[0mbook\u001b[0m \u001b[1;33m=\u001b[0m \u001b[0mself\u001b[0m\u001b[1;33m.\u001b[0m\u001b[0mload_workbook\u001b[0m\u001b[1;33m(\u001b[0m\u001b[0mfilepath_or_buffer\u001b[0m\u001b[1;33m)\u001b[0m\u001b[1;33m\u001b[0m\u001b[1;33m\u001b[0m\u001b[0m\n",
      "\u001b[1;32mc:\\users\\tsubasa.ohmura\\appdata\\local\\programs\\python\\python38\\lib\\site-packages\\pandas\\io\\excel\\_xlrd.py\u001b[0m in \u001b[0;36mload_workbook\u001b[1;34m(self, filepath_or_buffer)\u001b[0m\n\u001b[0;32m     32\u001b[0m         \u001b[1;32mif\u001b[0m \u001b[0mhasattr\u001b[0m\u001b[1;33m(\u001b[0m\u001b[0mfilepath_or_buffer\u001b[0m\u001b[1;33m,\u001b[0m \u001b[1;34m\"read\"\u001b[0m\u001b[1;33m)\u001b[0m\u001b[1;33m:\u001b[0m\u001b[1;33m\u001b[0m\u001b[1;33m\u001b[0m\u001b[0m\n\u001b[0;32m     33\u001b[0m             \u001b[0mdata\u001b[0m \u001b[1;33m=\u001b[0m \u001b[0mfilepath_or_buffer\u001b[0m\u001b[1;33m.\u001b[0m\u001b[0mread\u001b[0m\u001b[1;33m(\u001b[0m\u001b[1;33m)\u001b[0m\u001b[1;33m\u001b[0m\u001b[1;33m\u001b[0m\u001b[0m\n\u001b[1;32m---> 34\u001b[1;33m             \u001b[1;32mreturn\u001b[0m \u001b[0mopen_workbook\u001b[0m\u001b[1;33m(\u001b[0m\u001b[0mfile_contents\u001b[0m\u001b[1;33m=\u001b[0m\u001b[0mdata\u001b[0m\u001b[1;33m)\u001b[0m\u001b[1;33m\u001b[0m\u001b[1;33m\u001b[0m\u001b[0m\n\u001b[0m\u001b[0;32m     35\u001b[0m         \u001b[1;32melse\u001b[0m\u001b[1;33m:\u001b[0m\u001b[1;33m\u001b[0m\u001b[1;33m\u001b[0m\u001b[0m\n\u001b[0;32m     36\u001b[0m             \u001b[1;32mreturn\u001b[0m \u001b[0mopen_workbook\u001b[0m\u001b[1;33m(\u001b[0m\u001b[0mfilepath_or_buffer\u001b[0m\u001b[1;33m)\u001b[0m\u001b[1;33m\u001b[0m\u001b[1;33m\u001b[0m\u001b[0m\n",
      "\u001b[1;32mc:\\users\\tsubasa.ohmura\\appdata\\local\\programs\\python\\python38\\lib\\site-packages\\xlrd\\__init__.py\u001b[0m in \u001b[0;36mopen_workbook\u001b[1;34m(filename, logfile, verbosity, use_mmap, file_contents, encoding_override, formatting_info, on_demand, ragged_rows)\u001b[0m\n\u001b[0;32m    146\u001b[0m     \u001b[1;33m:\u001b[0m\u001b[0mparam\u001b[0m \u001b[0mragged_rows\u001b[0m\u001b[1;33m:\u001b[0m\u001b[1;33m\u001b[0m\u001b[1;33m\u001b[0m\u001b[0m\n\u001b[0;32m    147\u001b[0m \u001b[1;33m\u001b[0m\u001b[0m\n\u001b[1;32m--> 148\u001b[1;33m       \u001b[0mThe\u001b[0m \u001b[0mdefault\u001b[0m \u001b[0mof\u001b[0m\u001b[0;31m \u001b[0m\u001b[0;31m`\u001b[0m\u001b[0;31m`\u001b[0m\u001b[1;32mFalse\u001b[0m\u001b[0;31m`\u001b[0m\u001b[0;31m`\u001b[0m \u001b[0mmeans\u001b[0m \u001b[0mall\u001b[0m \u001b[0mrows\u001b[0m \u001b[0mare\u001b[0m \u001b[0mpadded\u001b[0m \u001b[0mout\u001b[0m \u001b[1;32mwith\u001b[0m \u001b[0mempty\u001b[0m \u001b[0mcells\u001b[0m \u001b[0mso\u001b[0m\u001b[1;33m\u001b[0m\u001b[1;33m\u001b[0m\u001b[0m\n\u001b[0m\u001b[0;32m    149\u001b[0m       \u001b[0mthat\u001b[0m \u001b[0mall\u001b[0m \u001b[0mrows\u001b[0m \u001b[0mhave\u001b[0m \u001b[0mthe\u001b[0m \u001b[0msame\u001b[0m \u001b[0msize\u001b[0m \u001b[1;32mas\u001b[0m \u001b[0mfound\u001b[0m \u001b[1;32min\u001b[0m\u001b[1;33m\u001b[0m\u001b[1;33m\u001b[0m\u001b[0m\n\u001b[0;32m    150\u001b[0m       \u001b[1;33m:\u001b[0m\u001b[0mattr\u001b[0m\u001b[1;33m:\u001b[0m\u001b[0;31m`\u001b[0m\u001b[1;33m~\u001b[0m\u001b[0mxlrd\u001b[0m\u001b[1;33m.\u001b[0m\u001b[0msheet\u001b[0m\u001b[1;33m.\u001b[0m\u001b[0mSheet\u001b[0m\u001b[1;33m.\u001b[0m\u001b[0mncols\u001b[0m\u001b[0;31m`\u001b[0m\u001b[1;33m.\u001b[0m\u001b[1;33m\u001b[0m\u001b[1;33m\u001b[0m\u001b[0m\n",
      "\u001b[1;32mc:\\users\\tsubasa.ohmura\\appdata\\local\\programs\\python\\python38\\lib\\site-packages\\xlrd\\book.py\u001b[0m in \u001b[0;36mopen_workbook_xls\u001b[1;34m(filename, logfile, verbosity, use_mmap, file_contents, encoding_override, formatting_info, on_demand, ragged_rows)\u001b[0m\n\u001b[0;32m     90\u001b[0m             \u001b[1;32mif\u001b[0m \u001b[0mon_demand\u001b[0m\u001b[1;33m:\u001b[0m\u001b[1;33m\u001b[0m\u001b[1;33m\u001b[0m\u001b[0m\n\u001b[0;32m     91\u001b[0m                 fprintf(bk.logfile,\n\u001b[1;32m---> 92\u001b[1;33m                     \u001b[1;34m\"*** WARNING: on_demand is not supported for this Excel version.\\n\"\u001b[0m\u001b[1;33m\u001b[0m\u001b[1;33m\u001b[0m\u001b[0m\n\u001b[0m\u001b[0;32m     93\u001b[0m                     \"*** Setting on_demand to False.\\n\")\n\u001b[0;32m     94\u001b[0m                 \u001b[0mbk\u001b[0m\u001b[1;33m.\u001b[0m\u001b[0mon_demand\u001b[0m \u001b[1;33m=\u001b[0m \u001b[0mon_demand\u001b[0m \u001b[1;33m=\u001b[0m \u001b[1;32mFalse\u001b[0m\u001b[1;33m\u001b[0m\u001b[1;33m\u001b[0m\u001b[0m\n",
      "\u001b[1;32mc:\\users\\tsubasa.ohmura\\appdata\\local\\programs\\python\\python38\\lib\\site-packages\\xlrd\\book.py\u001b[0m in \u001b[0;36mgetbof\u001b[1;34m(self, rqd_stream)\u001b[0m\n\u001b[0;32m   1276\u001b[0m \u001b[1;33m\u001b[0m\u001b[0m\n\u001b[0;32m   1277\u001b[0m         \u001b[1;32mdef\u001b[0m \u001b[0mbof_error\u001b[0m\u001b[1;33m(\u001b[0m\u001b[0mmsg\u001b[0m\u001b[1;33m)\u001b[0m\u001b[1;33m:\u001b[0m\u001b[1;33m\u001b[0m\u001b[1;33m\u001b[0m\u001b[0m\n\u001b[1;32m-> 1278\u001b[1;33m             \u001b[1;32mraise\u001b[0m \u001b[0mXLRDError\u001b[0m\u001b[1;33m(\u001b[0m\u001b[1;34m'Unsupported format, or corrupt file: '\u001b[0m \u001b[1;33m+\u001b[0m \u001b[0mmsg\u001b[0m\u001b[1;33m)\u001b[0m\u001b[1;33m\u001b[0m\u001b[1;33m\u001b[0m\u001b[0m\n\u001b[0m\u001b[0;32m   1279\u001b[0m         \u001b[0msavpos\u001b[0m \u001b[1;33m=\u001b[0m \u001b[0mself\u001b[0m\u001b[1;33m.\u001b[0m\u001b[0m_position\u001b[0m\u001b[1;33m\u001b[0m\u001b[1;33m\u001b[0m\u001b[0m\n\u001b[0;32m   1280\u001b[0m         \u001b[0mopcode\u001b[0m \u001b[1;33m=\u001b[0m \u001b[0mself\u001b[0m\u001b[1;33m.\u001b[0m\u001b[0mget2bytes\u001b[0m\u001b[1;33m(\u001b[0m\u001b[1;33m)\u001b[0m\u001b[1;33m\u001b[0m\u001b[1;33m\u001b[0m\u001b[0m\n",
      "\u001b[1;32mc:\\users\\tsubasa.ohmura\\appdata\\local\\programs\\python\\python38\\lib\\site-packages\\xlrd\\book.py\u001b[0m in \u001b[0;36mbof_error\u001b[1;34m(msg)\u001b[0m\n\u001b[0;32m   1270\u001b[0m         \u001b[1;32mreturn\u001b[0m \u001b[0mdata\u001b[0m\u001b[1;33m\u001b[0m\u001b[1;33m\u001b[0m\u001b[0m\n\u001b[0;32m   1271\u001b[0m \u001b[1;33m\u001b[0m\u001b[0m\n\u001b[1;32m-> 1272\u001b[1;33m     \u001b[1;32mdef\u001b[0m \u001b[0mgetbof\u001b[0m\u001b[1;33m(\u001b[0m\u001b[0mself\u001b[0m\u001b[1;33m,\u001b[0m \u001b[0mrqd_stream\u001b[0m\u001b[1;33m)\u001b[0m\u001b[1;33m:\u001b[0m\u001b[1;33m\u001b[0m\u001b[1;33m\u001b[0m\u001b[0m\n\u001b[0m\u001b[0;32m   1273\u001b[0m         \u001b[1;31m# DEBUG = 1\u001b[0m\u001b[1;33m\u001b[0m\u001b[1;33m\u001b[0m\u001b[1;33m\u001b[0m\u001b[0m\n\u001b[0;32m   1274\u001b[0m         \u001b[1;31m# if DEBUG: print >> self.logfile, \"getbof(): position\", self._position\u001b[0m\u001b[1;33m\u001b[0m\u001b[1;33m\u001b[0m\u001b[1;33m\u001b[0m\u001b[0m\n",
      "\u001b[1;31mXLRDError\u001b[0m: Unsupported format, or corrupt file: Expected BOF record; found b'\\r\\n<!DOCT'"
     ]
    }
   ],
   "source": [
    "#import all the libraries\n",
    "from office365.runtime.auth.authentication_context import AuthenticationContext\n",
    "from office365.sharepoint.client_context import ClientContext\n",
    "from office365.sharepoint.files.file import File\n",
    "import io\n",
    "import pandas as pd\n",
    "\n",
    "#target url taken from sharepoint and credentials\n",
    "url = 'https://ccbji.sharepoint.com/sites/CSIIDivision-BI-INTAGE/_layouts/15/download.aspx?SourceUrl=https://ccbji.sharepoint.com/sites/CSIIDivision-BI-INTAGE/Shared%20Documents/BI%20-%20INTAGE/BI-PlanoPOS/prediction_test.xlsx'\n",
    "username = 'tsubasa.ohmura@ccbji.co.jp'\n",
    "password = 'Namaka283'\n",
    "\n",
    "ctx_auth = AuthenticationContext(url)\n",
    "if ctx_auth.acquire_token_for_user(username, password):\n",
    "  ctx = ClientContext(url, ctx_auth)\n",
    "  web = ctx.web\n",
    "  ctx.load(web)\n",
    "  ctx.execute_query()\n",
    "  print(\"Authentication successful\")\n",
    "\n",
    "response = File.open_binary(ctx, url)\n",
    "\n",
    "#save data to BytesIO stream\n",
    "bytes_file_obj = io.BytesIO()\n",
    "bytes_file_obj.write(response.content)\n",
    "bytes_file_obj.seek(0) #set file object to start\n",
    "\n",
    "#read excel file and each sheet into pandas dataframe \n",
    "df = pd.read_excel(bytes_file_obj, sheet_number=0)"
   ]
  },
  {
   "cell_type": "code",
   "execution_count": 231,
   "id": "collective-orleans",
   "metadata": {},
   "outputs": [
    {
     "name": "stderr",
     "output_type": "stream",
     "text": [
      "c:\\users\\tsubasa.ohmura\\appdata\\local\\programs\\python\\python38\\lib\\site-packages\\ipykernel\\ipkernel.py:283: DeprecationWarning: `should_run_async` will not call `transform_cell` automatically in the future. Please pass the result to `transformed_cell` argument and any exception that happen during thetransform in `preprocessing_exc_tuple` in IPython 7.17 and above.\n",
      "  and should_run_async(code)\n"
     ]
    },
    {
     "name": "stdout",
     "output_type": "stream",
     "text": [
      "Authentication successful\n"
     ]
    }
   ],
   "source": [
    "#import all the libraries\n",
    "from office365.runtime.auth.authentication_context import AuthenticationContext\n",
    "from office365.sharepoint.client_context import ClientContext\n",
    "from office365.sharepoint.files.file import File\n",
    "import io\n",
    "import pandas as pd\n",
    "\n",
    "#target url taken from sharepoint and credentials\n",
    "url = 'https://ccbji.sharepoint.com/sites/CSIIDivision-BI-INTAGE'\n",
    "username = 'tsubasa.ohmura@ccbji.co.jp'\n",
    "password = 'Namaka283'\n",
    "\n",
    "ctx_auth = AuthenticationContext(url)\n",
    "if ctx_auth.acquire_token_for_user(username, password):\n",
    "  ctx = ClientContext(url, ctx_auth)\n",
    "  web = ctx.web\n",
    "  ctx.load(web)\n",
    "  ctx.execute_query()\n",
    "  print(\"Authentication successful\")\n",
    "urls = 'https://ccbji.sharepoint.com/sites/CSIIDivision-BI-INTAGE/_layouts/15/download.aspx?SourceUrl=https://ccbji.sharepoint.com/sites/CSIIDivision-BI-INTAGE/Shared%20Documents/BI%20-%20INTAGE/BI-PlanoPOS/prediction_test.xlsx'\n",
    "#urls = 'https://ccbji.sharepoint.com/sites/CSIIDivision-BI-INTAGE/_layouts/15/download.aspx?SourceUrl=https://ccbji.sharepoint.com/sites/CSIIDivision-BI-INTAGE/Shared%20Documents/BI%20-%20INTAGE/BI-PlanoPOS/prediction_test.xlsx'\n",
    "#urls = 'https://ccbji.sharepoint.com/sites/CSIIDivision-BI-INTAGE/Shared%20Documents/BI%20-%20INTAGE/BI-PlanoPOS/prediction_test.xlsx?d=w28a07a67ed574b34bc7945f418de239e&csf=1&web=1&e=bJQ7Oe'\n",
    "response = File.open_binary(ctx, urls)\n",
    "with open(\"prediction_test.xlsx\", \"wb\") as local_file:\n",
    "    local_file.write(response.content)"
   ]
  },
  {
   "cell_type": "code",
   "execution_count": 232,
   "id": "furnished-joyce",
   "metadata": {},
   "outputs": [
    {
     "name": "stderr",
     "output_type": "stream",
     "text": [
      "c:\\users\\tsubasa.ohmura\\appdata\\local\\programs\\python\\python38\\lib\\site-packages\\ipykernel\\ipkernel.py:283: DeprecationWarning: `should_run_async` will not call `transform_cell` automatically in the future. Please pass the result to `transformed_cell` argument and any exception that happen during thetransform in `preprocessing_exc_tuple` in IPython 7.17 and above.\n",
      "  and should_run_async(code)\n"
     ]
    },
    {
     "data": {
      "text/plain": [
       "b'500 INTERNAL SERVER ERROR'"
      ]
     },
     "execution_count": 232,
     "metadata": {},
     "output_type": "execute_result"
    }
   ],
   "source": [
    "response.content"
   ]
  },
  {
   "cell_type": "code",
   "execution_count": null,
   "id": "banner-stack",
   "metadata": {},
   "outputs": [],
   "source": []
  },
  {
   "cell_type": "code",
   "execution_count": null,
   "id": "needed-america",
   "metadata": {},
   "outputs": [],
   "source": []
  },
  {
   "cell_type": "code",
   "execution_count": null,
   "id": "clean-hobby",
   "metadata": {},
   "outputs": [],
   "source": []
  },
  {
   "cell_type": "code",
   "execution_count": 177,
   "id": "sought-blowing",
   "metadata": {},
   "outputs": [
    {
     "name": "stdout",
     "output_type": "stream",
     "text": [
      "403\n"
     ]
    },
    {
     "name": "stderr",
     "output_type": "stream",
     "text": [
      "c:\\users\\tsubasa.ohmura\\appdata\\local\\programs\\python\\python38\\lib\\site-packages\\ipykernel\\ipkernel.py:283: DeprecationWarning: `should_run_async` will not call `transform_cell` automatically in the future. Please pass the result to `transformed_cell` argument and any exception that happen during thetransform in `preprocessing_exc_tuple` in IPython 7.17 and above.\n",
      "  and should_run_async(code)\n"
     ]
    }
   ],
   "source": [
    "import requests\n",
    "#from requests.auth import HTTPBasicAuth\n",
    "from requests_ntlm import HttpNtlmAuth\n",
    "\n",
    "user = 'tsubasa.ohmura@ccbji.co.jp'\n",
    "password = 'Namaka283'\n",
    "\n",
    "response = requests.get(\n",
    "    url='https://ccbji.sharepoint.com/sites/CSIIDivision-BI-INTAGE/',\n",
    "    auth=HttpNtlmAuth(user, password)\n",
    "    )\n",
    "\n",
    "print(response.status_code)"
   ]
  },
  {
   "cell_type": "code",
   "execution_count": 70,
   "id": "heard-volunteer",
   "metadata": {},
   "outputs": [
    {
     "name": "stderr",
     "output_type": "stream",
     "text": [
      "c:\\users\\tsubasa.ohmura\\appdata\\local\\programs\\python\\python38\\lib\\site-packages\\ipykernel\\ipkernel.py:283: DeprecationWarning: `should_run_async` will not call `transform_cell` automatically in the future. Please pass the result to `transformed_cell` argument and any exception that happen during thetransform in `preprocessing_exc_tuple` in IPython 7.17 and above.\n",
      "  and should_run_async(code)\n"
     ]
    },
    {
     "name": "stdout",
     "output_type": "stream",
     "text": [
      "Authentication successful\n"
     ]
    },
    {
     "ename": "JSONDecodeError",
     "evalue": "Expecting value: line 2 column 1 (char 2)",
     "output_type": "error",
     "traceback": [
      "\u001b[1;31m---------------------------------------------------------------------------\u001b[0m",
      "\u001b[1;31mJSONDecodeError\u001b[0m                           Traceback (most recent call last)",
      "\u001b[1;32m<ipython-input-70-146a31fdc57d>\u001b[0m in \u001b[0;36m<module>\u001b[1;34m\u001b[0m\n\u001b[0;32m     22\u001b[0m \u001b[0mrequest\u001b[0m \u001b[1;33m=\u001b[0m \u001b[0mRequestOptions\u001b[0m\u001b[1;33m(\u001b[0m\u001b[1;34m\"{0}/_api/web/\"\u001b[0m\u001b[1;33m.\u001b[0m\u001b[0mformat\u001b[0m\u001b[1;33m(\u001b[0m\u001b[0murl\u001b[0m\u001b[1;33m)\u001b[0m\u001b[1;33m)\u001b[0m\u001b[1;33m\u001b[0m\u001b[1;33m\u001b[0m\u001b[0m\n\u001b[0;32m     23\u001b[0m \u001b[0mresponse\u001b[0m \u001b[1;33m=\u001b[0m \u001b[0mctx\u001b[0m\u001b[1;33m.\u001b[0m\u001b[0mexecute_request_direct\u001b[0m\u001b[1;33m(\u001b[0m\u001b[0mrequest\u001b[0m\u001b[1;33m)\u001b[0m\u001b[1;33m\u001b[0m\u001b[1;33m\u001b[0m\u001b[0m\n\u001b[1;32m---> 24\u001b[1;33m \u001b[0mjson_data\u001b[0m \u001b[1;33m=\u001b[0m \u001b[0mjson\u001b[0m\u001b[1;33m.\u001b[0m\u001b[0mloads\u001b[0m\u001b[1;33m(\u001b[0m\u001b[0mresponse\u001b[0m\u001b[1;33m.\u001b[0m\u001b[0mcontent\u001b[0m\u001b[1;33m)\u001b[0m \u001b[1;31m# ERROR ENCOUNTERED JSON DECODE ERROR SINCE DATA IS IN BYTES\u001b[0m\u001b[1;33m\u001b[0m\u001b[1;33m\u001b[0m\u001b[0m\n\u001b[0m",
      "\u001b[1;32mc:\\users\\tsubasa.ohmura\\appdata\\local\\programs\\python\\python38\\lib\\json\\__init__.py\u001b[0m in \u001b[0;36mloads\u001b[1;34m(s, cls, object_hook, parse_float, parse_int, parse_constant, object_pairs_hook, **kw)\u001b[0m\n\u001b[0;32m    355\u001b[0m             \u001b[0mparse_int\u001b[0m \u001b[1;32mis\u001b[0m \u001b[1;32mNone\u001b[0m \u001b[1;32mand\u001b[0m \u001b[0mparse_float\u001b[0m \u001b[1;32mis\u001b[0m \u001b[1;32mNone\u001b[0m \u001b[1;32mand\u001b[0m\u001b[1;33m\u001b[0m\u001b[1;33m\u001b[0m\u001b[0m\n\u001b[0;32m    356\u001b[0m             parse_constant is None and object_pairs_hook is None and not kw):\n\u001b[1;32m--> 357\u001b[1;33m         \u001b[1;32mreturn\u001b[0m \u001b[0m_default_decoder\u001b[0m\u001b[1;33m.\u001b[0m\u001b[0mdecode\u001b[0m\u001b[1;33m(\u001b[0m\u001b[0ms\u001b[0m\u001b[1;33m)\u001b[0m\u001b[1;33m\u001b[0m\u001b[1;33m\u001b[0m\u001b[0m\n\u001b[0m\u001b[0;32m    358\u001b[0m     \u001b[1;32mif\u001b[0m \u001b[0mcls\u001b[0m \u001b[1;32mis\u001b[0m \u001b[1;32mNone\u001b[0m\u001b[1;33m:\u001b[0m\u001b[1;33m\u001b[0m\u001b[1;33m\u001b[0m\u001b[0m\n\u001b[0;32m    359\u001b[0m         \u001b[0mcls\u001b[0m \u001b[1;33m=\u001b[0m \u001b[0mJSONDecoder\u001b[0m\u001b[1;33m\u001b[0m\u001b[1;33m\u001b[0m\u001b[0m\n",
      "\u001b[1;32mc:\\users\\tsubasa.ohmura\\appdata\\local\\programs\\python\\python38\\lib\\json\\decoder.py\u001b[0m in \u001b[0;36mdecode\u001b[1;34m(self, s, _w)\u001b[0m\n\u001b[0;32m    335\u001b[0m \u001b[1;33m\u001b[0m\u001b[0m\n\u001b[0;32m    336\u001b[0m         \"\"\"\n\u001b[1;32m--> 337\u001b[1;33m         \u001b[0mobj\u001b[0m\u001b[1;33m,\u001b[0m \u001b[0mend\u001b[0m \u001b[1;33m=\u001b[0m \u001b[0mself\u001b[0m\u001b[1;33m.\u001b[0m\u001b[0mraw_decode\u001b[0m\u001b[1;33m(\u001b[0m\u001b[0ms\u001b[0m\u001b[1;33m,\u001b[0m \u001b[0midx\u001b[0m\u001b[1;33m=\u001b[0m\u001b[0m_w\u001b[0m\u001b[1;33m(\u001b[0m\u001b[0ms\u001b[0m\u001b[1;33m,\u001b[0m \u001b[1;36m0\u001b[0m\u001b[1;33m)\u001b[0m\u001b[1;33m.\u001b[0m\u001b[0mend\u001b[0m\u001b[1;33m(\u001b[0m\u001b[1;33m)\u001b[0m\u001b[1;33m)\u001b[0m\u001b[1;33m\u001b[0m\u001b[1;33m\u001b[0m\u001b[0m\n\u001b[0m\u001b[0;32m    338\u001b[0m         \u001b[0mend\u001b[0m \u001b[1;33m=\u001b[0m \u001b[0m_w\u001b[0m\u001b[1;33m(\u001b[0m\u001b[0ms\u001b[0m\u001b[1;33m,\u001b[0m \u001b[0mend\u001b[0m\u001b[1;33m)\u001b[0m\u001b[1;33m.\u001b[0m\u001b[0mend\u001b[0m\u001b[1;33m(\u001b[0m\u001b[1;33m)\u001b[0m\u001b[1;33m\u001b[0m\u001b[1;33m\u001b[0m\u001b[0m\n\u001b[0;32m    339\u001b[0m         \u001b[1;32mif\u001b[0m \u001b[0mend\u001b[0m \u001b[1;33m!=\u001b[0m \u001b[0mlen\u001b[0m\u001b[1;33m(\u001b[0m\u001b[0ms\u001b[0m\u001b[1;33m)\u001b[0m\u001b[1;33m:\u001b[0m\u001b[1;33m\u001b[0m\u001b[1;33m\u001b[0m\u001b[0m\n",
      "\u001b[1;32mc:\\users\\tsubasa.ohmura\\appdata\\local\\programs\\python\\python38\\lib\\json\\decoder.py\u001b[0m in \u001b[0;36mraw_decode\u001b[1;34m(self, s, idx)\u001b[0m\n\u001b[0;32m    353\u001b[0m             \u001b[0mobj\u001b[0m\u001b[1;33m,\u001b[0m \u001b[0mend\u001b[0m \u001b[1;33m=\u001b[0m \u001b[0mself\u001b[0m\u001b[1;33m.\u001b[0m\u001b[0mscan_once\u001b[0m\u001b[1;33m(\u001b[0m\u001b[0ms\u001b[0m\u001b[1;33m,\u001b[0m \u001b[0midx\u001b[0m\u001b[1;33m)\u001b[0m\u001b[1;33m\u001b[0m\u001b[1;33m\u001b[0m\u001b[0m\n\u001b[0;32m    354\u001b[0m         \u001b[1;32mexcept\u001b[0m \u001b[0mStopIteration\u001b[0m \u001b[1;32mas\u001b[0m \u001b[0merr\u001b[0m\u001b[1;33m:\u001b[0m\u001b[1;33m\u001b[0m\u001b[1;33m\u001b[0m\u001b[0m\n\u001b[1;32m--> 355\u001b[1;33m             \u001b[1;32mraise\u001b[0m \u001b[0mJSONDecodeError\u001b[0m\u001b[1;33m(\u001b[0m\u001b[1;34m\"Expecting value\"\u001b[0m\u001b[1;33m,\u001b[0m \u001b[0ms\u001b[0m\u001b[1;33m,\u001b[0m \u001b[0merr\u001b[0m\u001b[1;33m.\u001b[0m\u001b[0mvalue\u001b[0m\u001b[1;33m)\u001b[0m \u001b[1;32mfrom\u001b[0m \u001b[1;32mNone\u001b[0m\u001b[1;33m\u001b[0m\u001b[1;33m\u001b[0m\u001b[0m\n\u001b[0m\u001b[0;32m    356\u001b[0m         \u001b[1;32mreturn\u001b[0m \u001b[0mobj\u001b[0m\u001b[1;33m,\u001b[0m \u001b[0mend\u001b[0m\u001b[1;33m\u001b[0m\u001b[1;33m\u001b[0m\u001b[0m\n",
      "\u001b[1;31mJSONDecodeError\u001b[0m: Expecting value: line 2 column 1 (char 2)"
     ]
    }
   ],
   "source": [
    "#import all the libraries\n",
    "from office365.runtime.auth.authentication_context import AuthenticationContext\n",
    "from office365.runtime.http.request_options import RequestOptions\n",
    "from office365.sharepoint.client_context import ClientContext\n",
    "from office365.sharepoint.files.file import File\n",
    "import io\n",
    "import pandas as pd\n",
    "\n",
    "#target url taken from sharepoint and credentials\n",
    "url = 'https://ccbji.sharepoint.com/:x:/r/sites/CSIIDivision-BI-INTAGE/Shared%20Documents/BI%20-%20INTAGE/BI-PlanoPOS/prediction_test.xlsx?d=w28a07a67ed574b34bc7945f418de239e&csf=1&web=1&e=sIXhKs'\n",
    "username = 'tsubasa.ohmura@ccbji.co.jp'\n",
    "password = 'Namaka283'\n",
    "\n",
    "ctx_auth = AuthenticationContext(url)\n",
    "if ctx_auth.acquire_token_for_user(username, password):\n",
    "  ctx = ClientContext(url, ctx_auth)\n",
    "  web = ctx.web\n",
    "  ctx.load(web)\n",
    "  ctx.execute_query()\n",
    "  print(\"Authentication successful\")\n",
    "\n",
    "request = RequestOptions(\"{0}/_api/web/\".format(url))\n",
    "response = ctx.execute_request_direct(request)\n",
    "json_data = json.loads(response.content) # ERROR ENCOUNTERED JSON DECODE ERROR SINCE DATA IS IN BYTES"
   ]
  },
  {
   "cell_type": "code",
   "execution_count": null,
   "id": "banner-chemistry",
   "metadata": {},
   "outputs": [],
   "source": []
  },
  {
   "cell_type": "code",
   "execution_count": 75,
   "id": "novel-blues",
   "metadata": {},
   "outputs": [
    {
     "name": "stderr",
     "output_type": "stream",
     "text": [
      "c:\\users\\tsubasa.ohmura\\appdata\\local\\programs\\python\\python38\\lib\\site-packages\\ipykernel\\ipkernel.py:283: DeprecationWarning: `should_run_async` will not call `transform_cell` automatically in the future. Please pass the result to `transformed_cell` argument and any exception that happen during thetransform in `preprocessing_exc_tuple` in IPython 7.17 and above.\n",
      "  and should_run_async(code)\n"
     ]
    }
   ],
   "source": [
    "ctx_auth = AuthenticationContext(url)\n",
    "ctx_auth.acquire_token_for_user(username, password)   \n",
    "ctx = ClientContext(url, ctx_auth)\n",
    "response = File.open_binary(ctx, \"/Shared Documents/BI INTAGE/BI-PlanoPOS/Plano商品マスタ(コードあり).xlsx\")\n",
    "with open(\"Plano商品マスタ(コードあり).xlsx\", \"wb\") as local_file:\n",
    "    local_file.write(response.content)"
   ]
  },
  {
   "cell_type": "code",
   "execution_count": 76,
   "id": "seeing-witch",
   "metadata": {},
   "outputs": [
    {
     "name": "stderr",
     "output_type": "stream",
     "text": [
      "c:\\users\\tsubasa.ohmura\\appdata\\local\\programs\\python\\python38\\lib\\site-packages\\ipykernel\\ipkernel.py:283: DeprecationWarning: `should_run_async` will not call `transform_cell` automatically in the future. Please pass the result to `transformed_cell` argument and any exception that happen during thetransform in `preprocessing_exc_tuple` in IPython 7.17 and above.\n",
      "  and should_run_async(code)\n"
     ]
    },
    {
     "data": {
      "text/plain": [
       "b'\\r\\n<!DOCTYPE html>\\r\\n<html lang=\"ja-jp\" dir=\"ltr\" class=\"ms-isBot\">\\r\\n   <head>\\r\\n\\t\\t<meta http-equiv=\"X-UA-Compatible\" content=\"IE=edge\" />\\r\\n\\t\\t<meta name=\"viewport\" content=\"width=device-width, initial-scale=1.0, maximum-scale=1.0, minimum-scale=1.0, user-scalable=no\" />\\r\\n\\t\\t<meta name=\"robots\" content=\"noindex\" />\\r\\n\\t\\t<script type=\"text/javascript\">\\r\\n\\t\\t\\tvar wopiDiagClient = { docFirstFlushTime : new Date().getTime() } ;\\r\\n\\t\\t\\tvar _wopiContextJson ={\"HostName\":\"SharePoint Online\",\"SessionId\":\"7D2ABC9F-C0EE-0000-923B-E06A54C602BD\",\"UserId\":\"10032000a2aea251\",\"WebAppUrl\":\"https://JPC-excel.officeapps.live.com/x/_layouts/xlviewerinternal.aspx?unified=1\\\\u0026ui=ja%2DJP\\\\u0026rs=ja%2DJP\\\\u0026WOPISrc=https%3A%2F%2Fccbji%2Esharepoint%2Ecom%2Fsites%2FCSIIDivision%2DBI%2DINTAGE%2F%5Fvti%5Fbin%2Fwopi%2Eashx%2Ffiles%2F28a07a67ed574b34bc7945f418de239e\\\\u0026wdEnableRoaming=1\\\\u0026mscc=1\\\\u0026hid=7d2abc9f-c0ee-0000-923b-e06a54c602bd\",\"FileName\":\"prediction_test.xlsx\",\"FileSize\":28413,\"FileGetUrl\":\"https://ccbji.sharepoint.com/sites/CSIIDivision-BI-INTAGE/_layouts/15/download.aspx?UniqueId=28a07a67-ed57-4b34-bc79-45f418de239e\\\\u0026Translate=false\\\\u0026tempauth=eyJ0eXAiOiJKV1QiLCJhbGciOiJub25lIn0.eyJhdWQiOiIwMDAwMDAwMy0wMDAwLTBmZjEtY2UwMC0wMDAwMDAwMDAwMDAvY2Niamkuc2hhcmVwb2ludC5jb21ANTJmOTU4ZWQtZTM2Ni00YWQ1LWJkY2YtOTExNWY2ZTI5YjM1IiwiaXNzIjoiMDAwMDAwMDMtMDAwMC0wZmYxLWNlMDAtMDAwMDAwMDAwMDAwIiwibmJmIjoiMTYxNzg2ODU1NiIsImV4cCI6IjE2MTc5MDQ1NTYiLCJlbmRwb2ludHVybCI6InZQN0MxUjlyelNNMkRCREd3MUVaelJQcHdvUzFRR29aNUFYdDdlUW1PUTg9IiwiZW5kcG9pbnR1cmxMZW5ndGgiOiIxNDUiLCJpc2xvb3BiYWNrIjoiVHJ1ZSIsImNpZCI6Ik4yUXlZV0pqT1dZdFl6QmxaUzB3TURBd0xUa3lNMkl0WlRBMllUVTBZell3TW1KayIsInZlciI6Imhhc2hlZHByb29mdG9rZW4iLCJzaXRlaWQiOiJZakZqTkdRNFltRXRaV0UwWWkwME5qZ3dMV0ZoTjJRdE1tWTVOelZsWW1Fek9UQXgiLCJuYW1laWQiOiIwIy5mfG1lbWJlcnNoaXB8dHN1YmFzYS5vaG11cmFAY2NiamkuY28uanAiLCJuaWkiOiJtaWNyb3NvZnQuc2hhcmVwb2ludCIsImlzdXNlciI6InRydWUiLCJjYWNoZWtleSI6IjBoLmZ8bWVtYmVyc2hpcHwxMDAzMjAwMGEyYWVhMjUxQGxpdmUuY29tIiwidHQiOiIwIiwidXNlUGVyc2lzdGVudENvb2tpZSI6IjIifQ.VmFZTEMrOEJiL243M3pLSnB2d2xvKzJzT1NuQTh6MWczc2w0S0NJVG04bz0\",\"BundleMajorVersion\":1,\"BundleUrl\":\"https://ccbji.sharepoint.com/sites/CSIIDivision-BI-INTAGE/_api/v2.0/drives/b!utjEsUvqgEaqfS-XXro5AYEYY-qrn-BKptxUWvMX5OeZsma9K2P3TYrt7U1nOpaB/items/01GCS5SODHPKQCQV7NGRF3Y6KF6QMN4I46/versions/Published/streams/content_preview_O{0}/streamContent?tempauth=eyJ0eXAiOiJKV1QiLCJhbGciOiJub25lIn0.eyJhdWQiOiIwMDAwMDAwMy0wMDAwLTBmZjEtY2UwMC0wMDAwMDAwMDAwMDAvY2Niamkuc2hhcmVwb2ludC5jb21ANTJmOTU4ZWQtZTM2Ni00YWQ1LWJkY2YtOTExNWY2ZTI5YjM1IiwiaXNzIjoiMDAwMDAwMDMtMDAwMC0wZmYxLWNlMDAtMDAwMDAwMDAwMDAwIiwibmJmIjoiMTYxNzg2ODU1NiIsImV4cCI6IjE2MTc4OTAxNTYiLCJlbmRwb2ludHVybCI6InlHSXpBdk5VTmV3ajFpMXRwTlJRWUVoMXJPZ2d6M043ODVkKzJsd1pzQ1k9IiwiZW5kcG9pbnR1cmxMZW5ndGgiOiIxODIiLCJpc2xvb3BiYWNrIjoiVHJ1ZSIsImNpZCI6Ik4yUXlZV0pqT1dZdFl6QmxaUzB3TURBd0xUa3lNMkl0WlRBMllUVTBZell3TW1KayIsInZlciI6Imhhc2hlZHByb29mdG9rZW4iLCJzaXRlaWQiOiJZakZqTkdRNFltRXRaV0UwWWkwME5qZ3dMV0ZoTjJRdE1tWTVOelZsWW1Fek9UQXgiLCJuYW1laWQiOiIwIy5mfG1lbWJlcnNoaXB8dHN1YmFzYS5vaG11cmFAY2NiamkuY28uanAiLCJuaWkiOiJtaWNyb3NvZnQuc2hhcmVwb2ludCIsImlzdXNlciI6InRydWUiLCJjYWNoZWtleSI6IjBoLmZ8bWVtYmVyc2hpcHwxMDAzMjAwMGEyYWVhMjUxQGxpdmUuY29tIiwidHQiOiIwIiwidXNlUGVyc2lzdGVudENvb2tpZSI6IjIifQ.emJsUjFwd0h3QnErTFhqanl5YWpBdmtNcy93VndOQlZqVTBsbHBOb2k5Yz0\\\\u0026usecachedssr=1\\\\u0026prefetchSSRCorrelationId=7d2abc9f-c0ee-0000-923b-e06a54c602bd\",\"ReadOnly\":false,\"IrmEnabled\":false,\"LabelIrmed\":false,\"LastModified\":1617864048000,\"ServerStartTime\":1617868556012.406,\"ServerCompleteTime\":0,\"DocUniqueId\":\"ccbji.sharepoint.com_b1c4d8ba-ea4b-4680-aa7d-2f975eba3901_28a07a67-ed57-4b34-bc79-45f418de239e\",\"CTag\":\"{28A07A67-ED57-4B34-BC79-45F418DE239E},1,2\",\"ETag\":\"\\\\\"{28A07A67-ED57-4B34-BC79-45F418DE239E},1\\\\\"\",\"RumOneUpdate\":true,\"OpenWacInPlace\":false,\"TemplateInfo\":null,\"BundleStaleness\":0,\"IsAsyncBundleStale\":false,\"ViewOnly\":false,\"DelayLoadResources\":true,\"Origin\":\"\",\"Slrid\":\"\",\"WacHostFlightStatus\":null,\"ClickTime\":0,\"UniqueClick\":\"00000000-0000-0000-0000-000000000000\",\"HostGeo\":\"JPN\",\"PredictedOfficeAppEndPoint\":\"\",\"PreseededSessionKey\":null,\"PreseededWacSessionId\":null,\"WacSessionId\":null,\"ParentFolderFullUrl\":\"https://ccbji.sharepoint.com/sites/CSIIDivision-BI-INTAGE/Shared Documents/BI - INTAGE/BI-PlanoPOS\",\"DocAgeBucketAtViewTimeBasedOnLastModifiedTime\":\"1-2 hrs\",\"DocAgeBucketAtViewTimeBasedOnLastWrittenTime\":\"1-2 hrs\",\"DocCategoryBasedOnLastModifiedTime\":\"Valid\",\"DocCategoryBasedOnLastWrittenTime\":\"Valid\",\"SSRGenerationReason\":\"TransformApi\",\"RecordAgeBucketsAndCategoryForRumOneUsingWopicontext\":true,\"ListItemId\":109777,\"ListId\":\"bd66b299-632b-4df7-8aed-ed4d673a9681\",\"AllowedOrigins\":[\"https://jpc-excel.officeapps.live.com\"],\"IsPragueDocument\":false,\"PragueSocketStorageDiscovery\":null,\"ResetUriToAddressBarLink\":false,\"IsEduUser\":false,\"IsWordEarlySessionStartEnabled\":false};\\r\\n\\t\\t\\tvar wacInitializer = null;\\r\\n\\t\\t\\tvar appName = \\'Excel\\';\\r\\n\\t\\t\\tvar bootstrapperUrl = \\'https://c1-excel-15.cdn.office.net/x/s/_layouts/app_scripts/excel-boot.min.js\\';\\r\\n\\t\\t\\tvar isCreateNew = false;\\r\\n\\t\\t\\tvar wopiFileInfo = null;\\r\\n\\t\\t\\tvar wopiAuthInfo = {\\r\\n\\t\\t\\t\\tWopiSrc: \\'https://ccbji.sharepoint.com/sites/CSIIDivision-BI-INTAGE/_vti_bin/wopi.ashx/files/28a07a67ed574b34bc7945f418de239e\\',\\r\\n\\t\\t\\t\\tAccessToken: \\'eyJ0eXAiOiJKV1QiLCJhbGciOiJSUzI1NiIsIng1dCI6IkcydDJKYzlkMVZ6RkdjdzZUZy02YUhZVXk2VSJ9.eyJhdWQiOiJ3b3BpL2NjYmppLnNoYXJlcG9pbnQuY29tQDUyZjk1OGVkLWUzNjYtNGFkNS1iZGNmLTkxMTVmNmUyOWIzNSIsImlzcyI6IjAwMDAwMDAzLTAwMDAtMGZmMS1jZTAwLTAwMDAwMDAwMDAwMEA5MDE0MDEyMi04NTE2LTExZTEtOGVmZi00OTMwNDkyNDAxOWIiLCJuYmYiOiIxNjE3ODY4NTU2IiwiZXhwIjoiMTYxNzkwNDU1NiIsIm5hbWVpZCI6IjAjLmZ8bWVtYmVyc2hpcHx0c3ViYXNhLm9obXVyYUBjY2JqaS5jby5qcCIsIm5paSI6Im1pY3Jvc29mdC5zaGFyZXBvaW50IiwiaXN1c2VyIjoidHJ1ZSIsImNhY2hla2V5IjoiMGguZnxtZW1iZXJzaGlwfDEwMDMyMDAwYTJhZWEyNTFAbGl2ZS5jb20iLCJpc2xvb3BiYWNrIjoiVHJ1ZSIsImFwcGN0eCI6IjI4YTA3YTY3ZWQ1NzRiMzRiYzc5NDVmNDE4ZGUyMzllO251QVlwWmxzb3pZMStzRko5V21ja01lUi9xTT07RGVmYXVsdDs7MUIwM0M0MzFBRUY7VHJ1ZTs7OzA7N2QyYWJjOWYtYzBlZS0wMDAwLTkyM2ItZTA2YTU0YzYwMmJkIn0.QKO_GXlopy7cyW8d0bsQNvm3lndSk-dpWpqa_Vr1d7jGosetsKoYjmb3_InWJ056kJ9hVHpSo72Ht2qe2Hb2bhX-crUAUij0vvLzEK0vh9gZmDif8y7qebQkvdZgLaI3o_Q3EYJ3Ax49gZy9WN9r7XvDcC7Pwv50dfP4_MyRyeHW8A1XsBwaRcgM9xySYBH80HP0zOWjcrepA-7eTbpyr5QcWAvMgJrnuh9rHqe0IjiQIzc8fQsrjL21phimgtjszo49pKetVMnJneEewDgDwyFGv2ikhaQEkgnro_pBVJmdTwSzQPFRC9Fb1Bg4jyKZddhRrhtQecBVjit1uc89Vg\\',\\r\\n\\t\\t\\t\\tAccessTokenExpiry: new Date(1617904556059)\\r\\n\\t\\t\\t};\\r\\n\\t\\t\\tvar serverErr = null;\\r\\n\\t\\t\\tvar _spPageContextInfo={\"siteId\":\"{b1c4d8ba-ea4b-4680-aa7d-2f975eba3901}\",\"webId\":\"{ea631881-9fab-4ae0-a6dc-545af317e4e7}\",\"groupId\":null,\"webTemplate\":\"69\",\"env\":\"prod\",\"env2\":\"prod\",\"isAnonymousGuestUser\":false,\"currentUICultureName\":\"ja-JP\",\"systemUserKey\":\"i:0h.f|membership|10032000a2aea251@live.com\",\"userDisplayName\":\"Ohmura Tsubasa (\\xe5\\xa4\\xa7\\xe6\\x9d\\x91 \\xe9\\xa3\\x9b\\xe7\\xbf\\x94)\",\"userLoginName\":\"tsubasa.ohmura@ccbji.co.jp\",\"userEmail\":\"tsubasa.ohmura@ccbji.co.jp\",\"siteSubscriptionId\":\"52f958ed-e366-4ad5-bdcf-9115f6e29b35\",\"farmLabel\":\"JPN_202_Content\",\"webAbsoluteUrl\":\"https://ccbji.sharepoint.com/sites/CSIIDivision-BI-INTAGE\",\"layoutsUrl\":\"_layouts/15\",\"webDomain\":\"sharepoint.com\",\"aadInstanceUrl\":\"https://login.windows.net\",\"aadTenantId\":\"52f958ed-e366-4ad5-bdcf-9115f6e29b35\",\"isSPO\":true,\"serverTime\":\"2021-04-08T07:55:56.1061505Z\",\"ExpFeatures\":[-1902149632,1616247625,83975232,658452508,867927865,-1799073152,1154011138,55716893,273224740,-1676017664,1696485264,-2004692856,142690954,547045712,2683813,1879835734,386154866,825906625,-2129391097,-1700862464,1092085481,1557070771,263524870,-2080759322,341194240,-1070103040,-250052582,-1070591656,1082131568,-1771495407,162726164,-2146412368,352911899,1402666452,-839610753,2116633051,-1705992184,235459621,-2048153962,-1518902407,1640808004,1267919324,1078683851,-816144959,-803136500,1915575042,1018353215,-1585423505,959649406,988502560,1295180338,-1773315063,-840940039,-329210190,486927291,434237032,2006473539,-1921308609,-802093379,-681045166,2009035128,10719057,702444358,-1199565591,403313952,144136,36839441,73400768,134217728,16777216],\"userPhotoCdnBaseUrl\":null};_spPageContextInfo.updateFormDigestPageLoaded=new Date();_spPageContextInfo.clientServerTimeDelta=new Date(_spPageContextInfo.serverTime)-new Date();if(typeof(define)==\\'function\\'){define(\\'SPPageContextInfo\\',[],function(){return _spPageContextInfo;});}\\r\\n\\t\\t\\tvar wopiDiagServer = {\"officeBundleCacheHitInfo\":null,\"officeBundleCacheMissInfo\":null,\"officeBundleGenerationTime\":null,\"officeBundleLastUpdateTime\":null,\"serverStartTime\":1617868556012.406,\"serverFirstFlushTime\":null,\"serverCompleteTime\":1617868556074.9021,\"ssrExpirationTime\":null};\\r\\n\\t\\t\\tvar docTypeHint = \"x\";\\r\\n\\t\\t\\tvar refreshIfTokenExpired = \\'True\\' === \\'True\\';\\r\\n\\t\\t\\tvar refreshUri = \\'https:\\\\u002f\\\\u002fccbji.sharepoint.com\\\\u002fsites\\\\u002fCSIIDivision-BI-INTAGE\\\\u002f_layouts\\\\u002f15\\\\u002fDoc.aspx?sourcedoc={28A07A67-ED57-4B34-BC79-45F418DE239E}\\\\u0026file=prediction_test.xlsx\\\\u0026action=default\\\\u0026mobileredirect=true\\\\u0026OR=Refresh\\';\\r\\n\\t\\t\\tvar isWacViewMode = false;\\r\\n\\t\\t\\tvar clientThrottlingProtection = \\'LeastProtected\\';\\r\\n\\t\\t\\tvar requestedCallThrottling = \\'Medium\\';\\r\\n\\t\\t\\tvar supportsMoveToFolder = true;\\r\\n\\t\\t\\tvar supportsCommonFilePicker = false;\\r\\n\\t\\t</script>\\r\\n\\t\\t<link rel=\"shortcut icon\" href=\"https://c1-excel-15.cdn.office.net/x/_layouts/resources/FavIcon_Excel.ico\" />\\r\\n\\t\\t<title>prediction_test.xlsx</title>\\r\\n\\t\\t<style>\\r\\n\\t\\t  html { height:100%; }\\r\\n\\t\\t  body { height:100%; }\\r\\n\\t\\t</style>\\r\\n\\t</head>\\r\\n\\t<body style=\"margin: 0; padding: 0; overflow:hidden; -ms-content-zooming: none;\">\\r\\n\\t  <div id=\"WopiDocWACContainer\" style=\"overflow:hidden;\"></div>\\r\\n\\t  <div id=\"ShareDialog\"></div>\\r\\n\\t  <script>\\r\\nfunction ULSnv4(){var o=new Object;o.ULSTeamName=\"Microsoft SharePoint Foundation\";o.ULSFileName=\"doc.aspx\";return o;}\\r\\n\\t\\tvar WACContainerId = \\'WopiDocWACContainer\\';\\r\\n\\t\\tfunction loadWacHost(onload) {ULSnv4:;\\r\\n\\t\\t\\tif (typeof require === \\'undefined\\') {\\r\\n\\t\\t\\t\\twindow.setTimeout(function() {ULSnv4:; loadWacHost(onload); }, 100);\\r\\n\\t\\t\\t} else {\\r\\n\\t\\t\\t\\trequire([\\'odsp-next/roots/WacHost\\'], function (wacHostModule) {ULSnv4:;\\r\\n\\t\\t\\t\\t\\tvar wacHost = wacHostModule.getWacHost();\\r\\n\\t\\t\\t\\t\\tonload(wacHost);\\r\\n\\t\\t\\t\\t});\\r\\n\\t\\t\\t}\\r\\n\\t\\t}\\r\\n\\t\\tfunction initializeWopiPending (appName, isPrague, isWordEarlySessionStartEnabled, initParams, wacSessionId) {ULSnv4:;\\r\\n\\t\\t\\tif (isPrague) {\\r\\n\\t\\t\\t\\treturn Microsoft.Office.Prague.Word.Application.InitializeWopiPending(initParams);\\r\\n\\t\\t\\t} else if(isWordEarlySessionStartEnabled) {\\r\\n\\t\\t\\t\\treturn Microsoft.Office[appName].Application.InitializeWopiPending(initParams, undefined, wacSessionId);\\r\\n\\t\\t\\t} else {\\r\\n\\t\\t\\t\\treturn Microsoft.Office[appName].Application.InitializeWopiPending(initParams);\\r\\n\\t\\t\\t}\\r\\n\\t\\t}\\r\\n\\t\\tvar WacInitializer =  (function () {ULSnv4:;\\r\\n\\t\\t\\tfunction WacInitializer(appName, bootstrapperUrl, wopiDocContext) {ULSnv4:;\\r\\n\\t\\t\\t\\tvar _this = this;\\r\\n\\t\\t\\t\\tthis.onInitSuccess = function (app, appDetails) {ULSnv4:;\\r\\n\\t\\t\\t\\t\\tif (!_this.isInitCompleted()) {\\r\\n\\t\\t\\t\\t\\t\\t_this._state = 3 ;\\r\\n\\t\\t\\t\\t\\t\\tvar diagClient = window.wopiDiagClient;\\r\\n\\t\\t\\t\\t\\t\\tvar wopiDiagnostics = {\\r\\n\\t\\t\\t\\t\\t\\t\\tentryPoint: _this.getOrigin(),\\r\\n\\t\\t\\t\\t\\t\\t\\tclickTime: _this.getClickTime(),\\r\\n\\t\\t\\t\\t\\t\\t\\tclient: diagClient,\\r\\n\\t\\t\\t\\t\\t\\t\\tserver: window.wopiDiagServer\\r\\n\\t\\t\\t\\t\\t\\t};\\r\\n\\t\\t\\t\\t\\t\\tvar qosStartTime = diagClient.wopiInitTime;\\r\\n\\t\\t\\t\\t\\t\\tloadWacHost(function (wacHost) {ULSnv4:;\\r\\n\\t\\t\\t\\t\\t\\t\\twacHost.setWacDataCenterCookie(appDetails);\\r\\n\\t\\t\\t\\t\\t\\t\\twacHost.sendPerfTelemetry(wopiDiagnostics, appDetails);\\r\\n\\t\\t\\t\\t\\t\\t\\twacHost.logWacInitializationQoS(qosStartTime, 0 , \"Success\", \"\");\\r\\n\\t\\t\\t\\t\\t\\t\\twacHost.logScriptQos(qosStartTime, _this._scriptError, _this._scriptWarning);\\r\\n\\t\\t\\t\\t\\t\\t\\twacHost.postLogging(appDetails);\\r\\n\\t\\t\\t\\t\\t\\t\\twindow.g_WACDone = true;\\r\\n\\t\\t\\t\\t\\t\\t});\\r\\n\\t\\t\\t\\t\\t} else if (appDetails.webAppFrameReinitialized) {\\r\\n\\t\\t\\t\\t\\t\\tloadWacHost(function (wacHost) {ULSnv4:;\\r\\n\\t\\t\\t\\t\\t\\t\\tif (wacHost.reinitializeWopiMessageHandler) {\\r\\n\\t\\t\\t\\t\\t\\t\\t\\twacHost.reinitializeWopiMessageHandler();\\r\\n\\t\\t\\t\\t\\t\\t\\t}\\r\\n\\t\\t\\t\\t\\t\\t});\\r\\n\\t\\t\\t\\t\\t}\\r\\n\\t\\t\\t\\t};\\r\\n\\t\\t\\t\\tthis.onInitFail = function (error, diagnostics) {ULSnv4:;\\r\\n\\t\\t\\t\\t\\tif (!_this.isInitCompleted()) {\\r\\n\\t\\t\\t\\t\\t\\t_this._state = 4 ;\\r\\n\\t\\t\\t\\t\\t\\t_this.log(\"Initialization failed. Error: \" + error.errorType + \". Diagnostics: \" + JSON.stringify(diagnostics));\\r\\n\\t\\t\\t\\t\\t\\t_this.logQosOnFailure(error.errorType, 1 );\\r\\n\\t\\t\\t\\t\\t}\\r\\n\\t\\t\\t\\t};\\r\\n\\t\\t\\t\\tthis.onTimeout = function () {ULSnv4:;\\r\\n\\t\\t\\t\\t\\tif (_this._state === 2 ) {\\r\\n\\t\\t\\t\\t\\t\\t_this._state = 4 ;\\r\\n\\t\\t\\t\\t\\t\\tvar err = \\'Initialization timed out.\\';\\r\\n\\t\\t\\t\\t\\t\\t_this.log(err);\\r\\n\\t\\t\\t\\t\\t\\tvar qosStartTime = window.wopiDiagClient.wopiInitTime;\\r\\n\\t\\t\\t\\t\\t\\tloadWacHost(function (wacHost) {ULSnv4:;\\r\\n\\t\\t\\t\\t\\t\\t\\tif(document.visibilityState === \\'visible\\')\\r\\n\\t\\t\\t\\t\\t\\t\\t{\\r\\n\\t\\t\\t\\t\\t\\t\\t   wacHost.logWacInitializationQoS(qosStartTime, 1 , \\'WacInit timed out\\', err);\\r\\n\\t\\t\\t\\t\\t\\t\\t}\\r\\n\\t\\t\\t\\t\\t\\t\\telse\\r\\n\\t\\t\\t\\t\\t\\t\\t{\\r\\n\\t\\t\\t\\t\\t\\t\\t   wacHost.logWacInitializationQoS(qosStartTime, 2 , \\'WacInit timed out for not focus\\', err);\\r\\n\\t\\t\\t\\t\\t\\t\\t}\\r\\n\\t\\t\\t\\t\\t\\t\\twacHost.logScriptQos(qosStartTime, _this._scriptError, _this._scriptWarning);\\r\\n\\t\\t\\t\\t\\t\\t\\twacHost.postLogging(undefined  );\\r\\n\\t\\t\\t\\t\\t\\t});\\r\\n\\t\\t\\t\\t\\t}\\r\\n\\t\\t\\t\\t};\\r\\n\\t\\t\\t\\tthis.onUnload = function () {ULSnv4:;\\r\\n\\t\\t\\t\\t\\tif (_this._state === 2 ) {\\r\\n\\t\\t\\t\\t\\t\\t_this._state = 4 ;\\r\\n\\t\\t\\t\\t\\t\\t_this.logQosOnFailure(\\'User navigated away.\\', 2 );\\r\\n\\t\\t\\t\\t\\t}\\r\\n\\t\\t\\t\\t};\\r\\n\\t\\t\\t\\tthis.isFeatureEnabled = function (featureName) {ULSnv4:;\\r\\n\\t\\t\\t\\t\\tif(_this._wopiDocContext.WacHostFlightStatus &&\\r\\n\\t\\t\\t\\t\\t\\tfeatureName in _this._wopiDocContext.WacHostFlightStatus) {\\r\\n\\t\\t\\t\\t\\t\\treturn _this._wopiDocContext.WacHostFlightStatus[featureName];\\r\\n\\t\\t\\t\\t\\t}\\r\\n\\t\\t\\t\\t};\\r\\n\\t\\t\\t\\tthis._state = 0 ;\\r\\n\\t\\t\\t\\tthis._appName = appName;\\r\\n\\t\\t\\t\\tthis._bootstrapperUrl = bootstrapperUrl;\\r\\n\\t\\t\\t\\tthis._wopiDocContext = wopiDocContext;\\r\\n\\t\\t\\t\\twindow.g_WACDone = false;\\r\\n\\t\\t\\t}\\r\\n\\t\\t\\tWacInitializer.prototype.start = function (wopiAuthInfo) {ULSnv4:;\\r\\n\\t\\t\\t\\tvar clickTime = this.getClickTime();\\r\\n\\t\\t\\t\\tvar entryPoint = this.getOrigin();\\r\\n\\t\\t\\t\\ttry {\\r\\n\\t\\t\\t\\t\\tvar clientDiagnostics = window.wopiDiagClient;\\r\\n\\t\\t\\t\\t\\tvar wopiDocContext = this._wopiDocContext;\\r\\n\\t\\t\\t\\t\\tvar container = document.getElementById(WACContainerId);\\r\\n\\t\\t\\t\\t\\tif (!container) {\\r\\n\\t\\t\\t\\t\\t\\tthrow \"Cannot find the element \" + WACContainerId + \".\";\\r\\n\\t\\t\\t\\t\\t}\\r\\n\\t\\t\\t\\t\\tthis._initParams = {\\r\\n\\t\\t\\t\\t\\t\\tBootstrapperUrl: this._bootstrapperUrl,\\r\\n\\t\\t\\t\\t\\t\\tContainer: container,\\r\\n\\t\\t\\t\\t\\t\\tSessionInformation: {\\r\\n\\t\\t\\t\\t\\t\\t\\tHostName: wopiDocContext.HostName,\\r\\n\\t\\t\\t\\t\\t\\t\\tHostSessionId: wopiDocContext.SessionId,\\r\\n\\t\\t\\t\\t\\t\\t\\tUserId: wopiDocContext.UserId,\\r\\n\\t\\t\\t\\t\\t\\t\\tDocumentClickTime: clickTime,\\r\\n\\t\\t\\t\\t\\t\\t\\tEntryPoint: entryPoint,\\r\\n\\t\\t\\t\\t\\t\\t\\tSupportsMoveToFolder: supportsMoveToFolder,\\r\\n\\t\\t\\t\\t\\t\\t\\tSupportsCommonFilePicker: supportsCommonFilePicker\\r\\n\\t\\t\\t\\t\\t\\t},\\r\\n\\t\\t\\t\\t\\t\\tWopiInfo: wopiAuthInfo,\\r\\n\\t\\t\\t\\t\\t\\tApplicationUrl: wopiDocContext.WebAppUrl.replace(/([&?])WOPISrc=&/, \\'$1\\'),\\r\\n\\t\\t\\t\\t\\t\\tWopiPrecheckInfo: {\\r\\n\\t\\t\\t\\t\\t\\t\\tFileName: wopiDocContext.FileName,\\r\\n\\t\\t\\t\\t\\t\\t\\tFileGetUrl: wopiDocContext.FileGetUrl,\\r\\n\\t\\t\\t\\t\\t\\t\\tFileSize: wopiDocContext.FileSize,\\r\\n\\t\\t\\t\\t\\t\\t\\tReadOnly: wopiDocContext.ReadOnly,\\r\\n\\t\\t\\t\\t\\t\\t\\tIrmEnabled: wopiDocContext.IrmEnabled,\\r\\n\\t\\t\\t\\t\\t\\t\\tDocUniqueId: wopiDocContext.DocUniqueId,\\r\\n\\t\\t\\t\\t\\t\\t\\tCTag: wopiDocContext.CTag,\\r\\n\\t\\t\\t\\t\\t\\t\\tETag: wopiDocContext.ETag,\\r\\n\\t\\t\\t\\t\\t\\t\\tViewOnly: wopiDocContext.ViewOnly,\\r\\n\\t\\t\\t\\t\\t\\t\\tHostGeo: wopiDocContext.HostGeo,\\r\\n\\t\\t\\t\\t\\t\\t\\tPreseededSessionKey: wopiDocContext.PreseededSessionKey,\\r\\n\\t\\t\\t\\t\\t\\t\\tPreseededWacSessionId: wopiDocContext.PreseededWacSessionId,\\r\\n\\t\\t\\t\\t\\t\\t\\tSupportsDecryptedContentDownload: wopiDocContext.LabelIrmed,\\r\\n\\t\\t\\t\\t\\t\\t\\tOpenViewByDefault: isWacViewMode,\\r\\n\\t\\t\\t\\t\\t\\t\\tClientThrottlingProtection: clientThrottlingProtection,\\r\\n\\t\\t\\t\\t\\t\\t\\tRequestedCallThrottling: requestedCallThrottling\\r\\n\\t\\t\\t\\t\\t\\t},\\r\\n\\t\\t\\t\\t\\t\\tApplicationCustomSettings: {\\r\\n\\t\\t\\t\\t\\t\\t\\tForceAccessibilityMode: false\\r\\n\\t\\t\\t\\t\\t\\t},\\r\\n\\t\\t\\t\\t\\t\\tDiagnostics: {\\r\\n\\t\\t\\t\\t\\t\\t\\tentryPoint: entryPoint,\\r\\n\\t\\t\\t\\t\\t\\t\\tuserClickTime: clickTime,\\r\\n\\t\\t\\t\\t\\t\\t\\thostPageFirstFlushTime: clientDiagnostics.docFirstFlushTime,\\r\\n\\t\\t\\t\\t\\t\\t\\tofficeBootstrapperStartTime: clientDiagnostics.bootJsStartTime,\\r\\n\\t\\t\\t\\t\\t\\t\\tofficeBootstrapperEndTime: clientDiagnostics.bootJsEndTime\\r\\n\\t\\t\\t\\t\\t\\t},\\r\\n\\t\\t\\t\\t\\t\\tFnOnInitializeSuccess: this.onInitSuccess,\\r\\n\\t\\t\\t\\t\\t\\tFnOnInitializeFailure: this.onInitFail,\\r\\n\\t\\t\\t\\t\\t\\tFnIsFeatureEnabled: this.isFeatureEnabled\\r\\n\\t\\t\\t\\t\\t};\\r\\n\\t\\t\\t\\t\\tif (wopiDocContext.BundleUrl && wopiDocContext.BundleUrl.length > 0) {\\r\\n\\t\\t\\t\\t\\t\\tthis._initParams.WopiPrecheckInfo.BundleInfo = this.getBundleInfo(wopiDocContext);\\r\\n\\t\\t\\t\\t\\t}\\r\\n\\t\\t\\t\\t\\tif (wopiDocContext.TemplateInfo) {\\r\\n\\t\\t\\t\\t\\t\\tthis._initParams.NewFileTemplateSource = wopiDocContext.TemplateInfo;\\r\\n\\t\\t\\t\\t\\t}\\r\\n\\t\\t\\t\\t\\tthis.configurePrague();\\r\\n\\t\\t\\t\\t\\tclientDiagnostics.wopiInitTime = new Date().getTime();\\r\\n\\t\\t\\t\\t\\tthis._wopiPendingApp = initializeWopiPending(this._appName, wopiDocContext.IsPragueDocument, wopiDocContext.IsWordEarlySessionStartEnabled, this._initParams, wopiDocContext.WacSessionId);\\r\\n\\t\\t\\t\\t\\tif (!this._wopiPendingApp) {\\r\\n\\t\\t\\t\\t\\t\\tthrow \"Failed to initialize WAC.\";\\r\\n\\t\\t\\t\\t\\t}\\r\\n\\t\\t\\t\\t\\tthis._state = 1 ;\\r\\n\\t\\t\\t\\t}\\r\\n\\t\\t\\t\\tcatch (err) {\\r\\n\\t\\t\\t\\t\\tthis._scriptError = (err && err.message ? err.message : \"process param to JsApi error.\") + \", CDN Path: \" + this._bootstrapperUrl;\\r\\n\\t\\t\\t\\t\\tthrow err;\\r\\n\\t\\t\\t\\t}\\r\\n\\t\\t\\t};\\r\\n\\t\\t\\tWacInitializer.prototype.complete = function (wopiDocAuthInfo, wopiDocFileInfo) {ULSnv4:;\\r\\n\\t\\t\\t\\tif (this._wopiPendingApp != null) {\\r\\n\\t\\t\\t\\t\\tif (this._state === 1 ) {\\r\\n\\t\\t\\t\\t\\t\\tthis._state = 2 ;\\r\\n\\t\\t\\t\\t\\t\\tthis._wopiPendingApp.Complete(wopiDocAuthInfo, wopiDocFileInfo);\\r\\n\\t\\t\\t\\t\\t\\tthis.log(\"WacInitializer.complete: Trying to complete initialization.\");\\r\\n\\t\\t\\t\\t\\t\\tsetTimeout(this.onTimeout.bind(this), 150000);\\r\\n\\t\\t\\t\\t\\t\\twindow.addEventListener(\\'beforeunload\\', this.onUnload);\\r\\n\\t\\t\\t\\t\\t}\\r\\n\\t\\t\\t\\t\\telse {\\r\\n\\t\\t\\t\\t\\t\\tthis.log(\"WacInitializer.complete: Skipping calling complete() the state \" + this._state + \" is unexpected.\");\\r\\n\\t\\t\\t\\t\\t}\\r\\n\\t\\t\\t\\t}\\r\\n\\t\\t\\t\\telse {\\r\\n\\t\\t\\t\\t\\tthis.log(\"WacInitializer.complete: _wopiPendingApp is null and skip calling complete().\");\\r\\n\\t\\t\\t\\t}\\r\\n\\t\\t\\t};\\r\\n\\t\\t\\tWacInitializer.prototype.fail = function (message) {ULSnv4:;\\r\\n\\t\\t\\t\\tif (!this.isInitCompleted()) {\\r\\n\\t\\t\\t\\t\\tthis._state = 4 ;\\r\\n\\t\\t\\t\\t\\tthis.log(\"Failed: \" + message);\\r\\n\\t\\t\\t\\t\\tif (this._wopiPendingApp != null) {\\r\\n\\t\\t\\t\\t\\t\\tthis._wopiPendingApp.Fail({ \\'Error\\': message });\\r\\n\\t\\t\\t\\t\\t}\\r\\n\\t\\t\\t\\t\\tthis.logQosOnFailure(message, 1 );\\r\\n\\t\\t\\t\\t}\\r\\n\\t\\t\\t};\\r\\n\\t\\t\\tWacInitializer.prototype.getInitState = function () {ULSnv4:;\\r\\n\\t\\t\\t\\treturn this._state;\\r\\n\\t\\t\\t};\\r\\n\\t\\t\\tWacInitializer.prototype.isInitCompleted = function () {ULSnv4:;\\r\\n\\t\\t\\t\\treturn this._state === 3  || this._state === 4 ;\\r\\n\\t\\t\\t};\\r\\n\\t\\t\\tWacInitializer.prototype.logQosOnFailure = function (message, qosResult) {ULSnv4:;\\r\\n\\t\\t\\t\\tvar _this = this;\\r\\n\\t\\t\\t\\tvar qosStartTime = window.wopiDiagClient.wopiInitTime;\\r\\n\\t\\t\\t\\tloadWacHost(function (wacHost) {ULSnv4:;\\r\\n\\t\\t\\t\\t\\twacHost.logWacInitializationQoS(qosStartTime, qosResult, \\'WacInit failed\\', message);\\r\\n\\t\\t\\t\\t\\twacHost.logScriptQos(qosStartTime, _this._scriptError, _this._scriptWarning);\\r\\n\\t\\t\\t\\t});\\r\\n\\t\\t\\t};\\r\\n\\t\\t\\tWacInitializer.prototype.log = function (message) {\\r\\n\\t\\t\\t};\\r\\n\\t\\t\\tWacInitializer.prototype.getOrigin = function () {ULSnv4:;\\r\\n\\t\\t\\t\\tif (!this._origin) {\\r\\n\\t\\t\\t\\t\\tthis.populateOriginAndClickTime();\\r\\n\\t\\t\\t\\t}\\r\\n\\t\\t\\t\\treturn this._origin;\\r\\n\\t\\t\\t};\\r\\n\\t\\t\\tWacInitializer.prototype.getClickTime = function () {ULSnv4:;\\r\\n\\t\\t\\t\\tif (!this._clickTime) {\\r\\n\\t\\t\\t\\t\\tthis.populateOriginAndClickTime();\\r\\n\\t\\t\\t\\t}\\r\\n\\t\\t\\t\\treturn this._clickTime;\\r\\n\\t\\t\\t};\\r\\n\\t\\t\\tWacInitializer.prototype.populateOriginAndClickTime = function () {ULSnv4:;\\r\\n\\t\\t\\t\\ttry {\\r\\n\\t\\t\\t\\t\\tvar origin = this._wopiDocContext.Origin;\\r\\n\\t\\t\\t\\t\\tif (this._wopiDocContext.ClickTime) {\\r\\n\\t\\t\\t\\t\\t\\tthis._clickTime = this._wopiDocContext.ClickTime;\\r\\n\\t\\t\\t\\t\\t}\\r\\n\\t\\t\\t\\t\\telse if (window.sessionStorage && !this._wopiDocContext.ClickTime) {\\r\\n\\t\\t\\t\\t\\t\\tvar queryStr = document.location.search;\\r\\n\\t\\t\\t\\t\\t\\tqueryStr = unescape(queryStr);\\r\\n\\t\\t\\t\\t\\t\\tif (queryStr) {\\r\\n\\t\\t\\t\\t\\t\\t\\tvar idStart = queryStr.indexOf(\"sourcedoc=\");\\r\\n\\t\\t\\t\\t\\t\\t\\tvar idEnd = queryStr.substring(idStart).indexOf(\"&\");\\r\\n\\t\\t\\t\\t\\t\\t\\tvar srcId = (idEnd === -1) ? queryStr.substring(idStart) : queryStr.substring(idStart, idStart + idEnd);\\r\\n\\t\\t\\t\\t\\t\\t\\tvar userClickKey = \"WOPIPerf_UserClick_\" + escape(srcId);\\r\\n\\t\\t\\t\\t\\t\\t\\tvar userClickTime = window.sessionStorage.getItem(userClickKey);\\r\\n\\t\\t\\t\\t\\t\\t\\tif (userClickTime) {\\r\\n\\t\\t\\t\\t\\t\\t\\t\\torigin = \"DocLib\";\\r\\n\\t\\t\\t\\t\\t\\t\\t}\\r\\n\\t\\t\\t\\t\\t\\t\\twindow.sessionStorage.removeItem(userClickKey);\\r\\n\\t\\t\\t\\t\\t\\t\\tthis._clickTime = Number(userClickTime);\\r\\n\\t\\t\\t\\t\\t\\t}\\r\\n\\t\\t\\t\\t\\t}\\r\\n\\t\\t\\t\\t\\telse {\\r\\n\\t\\t\\t\\t\\t\\tthis._clickTime = 0;\\r\\n\\t\\t\\t\\t\\t}\\r\\n\\t\\t\\t\\t\\tthis._origin = origin ? origin : \"Other\";\\r\\n\\t\\t\\t\\t}\\r\\n\\t\\t\\t\\tcatch (err) {\\r\\n\\t\\t\\t\\t\\tthis._scriptWarning = err && err.message ? err.message : \"process UserClick queryString error. \";\\r\\n\\t\\t\\t\\t}\\r\\n\\t\\t\\t};\\r\\n\\t\\t\\tWacInitializer.prototype.configurePrague = function () {ULSnv4:;\\r\\n\\t\\t\\t\\tvar pragueProperties = this._wopiDocContext.PragueSocketStorageDiscovery;\\r\\n\\t\\t\\t\\tif (pragueProperties) {\\r\\n\\t\\t\\t\\t\\tthis._initParams.ApplicationCustomSettings.pragueSocketStorageDiscovery = {\\r\\n\\t\\t\\t\\t\\t\\ttenantId: pragueProperties.TenantId,\\r\\n\\t\\t\\t\\t\\t\\tid: pragueProperties.Id,\\r\\n\\t\\t\\t\\t\\t\\tdeltaStorageUrl: pragueProperties.DeltaStorageUrl,\\r\\n\\t\\t\\t\\t\\t\\tdeltaStreamSocketUrl: pragueProperties.DeltaStreamSocketUrl,\\r\\n\\t\\t\\t\\t\\t\\tsnapshotStorageUrl: pragueProperties.SnapshotStorageUrl,\\r\\n\\t\\t\\t\\t\\t\\tsocketToken: pragueProperties.SocketToken,\\r\\n\\t\\t\\t\\t\\t\\tstorageToken: pragueProperties.StorageToken,\\r\\n\\t\\t\\t\\t\\t\\tnavSite: pragueProperties.NavSite\\r\\n\\t\\t\\t\\t\\t};\\r\\n\\t\\t\\t\\t}\\r\\n\\t\\t\\t};\\r\\n\\t\\t\\tWacInitializer.prototype.getBundleInfo = function (wopiDocContext) {ULSnv4:;\\r\\n\\t\\t\\t\\tvar bundleInfo = {\\r\\n\\t\\t\\t\\t\\tMajorVersion: 1,\\r\\n\\t\\t\\t\\t\\tUrl: wopiDocContext.BundleUrl\\r\\n\\t\\t\\t\\t};\\r\\n\\t\\t\\t\\tif (this._appName === \"Excel\" && !wopiDocContext.IsAsyncBundleStale) {\\r\\n\\t\\t\\t\\t\\tbundleInfo.BundleStaleness = wopiDocContext.BundleStaleness;\\r\\n\\t\\t\\t\\t}\\r\\n\\t\\t\\t\\treturn bundleInfo;\\r\\n\\t\\t\\t};\\r\\n\\t\\t\\treturn WacInitializer;\\r\\n\\t\\t}());\\r\\n\\t\\tfunction getRefreshCount() {ULSnv4:;\\r\\n\\t\\t\\tvar regex = new RegExp(\\'[\\\\?&]refreshcount=([^&#]*)\\');\\r\\n\\t\\t\\tvar rs = regex.exec(location.search);\\r\\n\\t\\t\\treturn (rs == null || isNaN(Number(rs[1]))) ? 0 : Number(rs[1]);\\r\\n\\t\\t}\\r\\n\\t\\tfunction refreshIfNecessary(refreshUri, tokenExpiry) {ULSnv4:;\\r\\n\\t\\t\\tif (window.refreshIfTokenExpired) {\\r\\n\\t\\t\\t\\tif (tokenExpiry.getTime() - new Date().getTime() < 300000 && refreshUri) {\\r\\n\\t\\t\\t\\t\\twindow.location.replace(refreshUri + \"&refreshcount=\" + (getRefreshCount() + 1));\\r\\n\\t\\t\\t\\t}\\r\\n\\t\\t\\t}\\r\\n\\t\\t}\\r\\n\\t\\tfunction initializeWac() {ULSnv4:;\\r\\n\\t\\t\\twindow.wopiDiagClient.bootJsEndTime = new Date().getTime();\\r\\n\\t\\t\\tvar wacInitializer = new WacInitializer(window.appName, window.bootstrapperUrl, window._wopiContextJson);\\r\\n\\t\\t\\twindow.wacInitializer = wacInitializer;\\r\\n\\t\\t\\ttry {\\r\\n\\t\\t\\t\\trefreshIfNecessary(window.refreshUri, window.wopiAuthInfo.AccessTokenExpiry);\\r\\n\\t\\t\\t\\tif (window.serverErr) {\\r\\n\\t\\t\\t\\t\\twacInitializer.fail(window.serverErr);\\r\\n\\t\\t\\t\\t} else {\\r\\n\\t\\t\\t\\t\\twacInitializer.start(window.wopiAuthInfo);\\r\\n\\t\\t\\t\\t\\tvar wopiAuthInfo = window.wopiAuthInfo;\\r\\n\\t\\t\\t\\t\\tif (wopiAuthInfo && wopiAuthInfo.AccessToken) {\\r\\n\\t\\t\\t\\t\\t\\twacInitializer.complete(window.wopiAuthInfo, window.wopiFileInfo);\\r\\n\\t\\t\\t\\t\\t}\\r\\n\\t\\t\\t\\t}\\r\\n\\t\\t\\t}\\r\\n\\t\\t\\tcatch (err) {\\r\\n\\t\\t\\t\\twacInitializer.fail(err);\\r\\n\\t\\t\\t}\\r\\n\\t\\t}\\r\\n\\t\\tfunction onLoadJsApiFailed() {ULSnv4:;\\r\\n\\t\\t\\twindow.wopiDiagClient.bootJsEndTime = new Date().getTime();\\r\\n\\t\\t\\tvar wacInitializer = new WacInitializer(window.appName, window.bootstrapperUrl, window._wopiContextJson);\\r\\n\\t\\t\\twacInitializer.fail(\"failed to load JsAPI\");\\r\\n\\t\\t}\\r\\n\\t\\twindow.wopiDiagClient.bootJsStartTime = new Date().getTime();\\r\\n\\t  </script>\\r\\n\\t  <script type=\"text/javascript\" onload=\"initializeWac()\" onerror=\"onLoadJsApiFailed()\" src=\"https://c1-excel-15.cdn.office.net/x/s/_layouts/app_scripts/excel-boot.min.js\"></script>\\r\\n\\t  \\r\\n\\t  \\r\\n\\t\\t  <link rel=\"preconnect\" href=\"https://modern.akamai.odsp.cdn.office.net\" crossorigin /><script type=\"text/javascript\">\\r\\n\\t!function(){if(\\'PerformanceLongTaskTiming\\' in window){var g=window.__tti={e:[]};g.o=new PerformanceObserver(function(l){g.e=g.e.concat(l.getEntries())});g.o.observe({entryTypes:[\\'longtask\\']})}}();\\r\\n</script><script type=\"text/javascript\">\\r\\n\\tvar g_responseEnd = new Date().getTime();window.performance && performance.mark(\\'EUPL.W3CResponseEnd\\');window[\\'FabricConfig\\'] = { fontBaseUrl: \\'\\'};window[\\'__odsp_culture\\'] = \\'ja\\';window[\\'__odspSriHashes\\'] = {\"plt.resx-plt.chunk.js\":\"sha256-J3sYunNzoqhLlsulplGN+JK0wfcg26oXXAMXLRY441Y=\",\"wachostwebpack.js\":\"sha256-OxqpdrDtDqgCprzcbW8ZP8VAmOyhcY+1xbX9HmfgLgE=\",\"ja/plt.resx-plt.chunk.js\":\"sha256-kLfCBmISkKAQ79nq1kfyDPFJM/Aw5IEsOxvl5sR2L/A=\",\"require.js\":\"sha256-SL3apeMbEK3cXFCAdagjljeQ+VnbCoG1pgc9j6SKnyI=\",\"odm.js\":\"sha256-eCphe5WtW30KEzBO4RxIe7suRvTOj5SiGA/nqj03l5c=\"};window[\\'__odsp_libraryScripts\\'] = {\"odsp.react.lib\":\"https://modern.akamai.odsp.cdn.office.net/files/odsp-web-prod_2021-02-19_20210223.001/odsp.react/odsp.react.lib.js\",\"odsp.aria.lib\":\"https://modern.akamai.odsp.cdn.office.net/files/odsp-web-prod_2021-02-19_20210223.001/odsp.aria/odsp.aria.lib.js\"};\\r\\n</script><script type=\"text/javascript\" src=\"https://modern.akamai.odsp.cdn.office.net/files/odsp-web-prod_2021-03-26_20210330.001/require.js\" id=\"requireJsScriptLink\">\\r\\n\\r\\n</script><script type=\"text/javascript\" id=\"requireConfig\">\\r\\n\\t\\r\\n!function(){\\r\\n    var backupBaseUrl = \\'https://az741266.vo.msecnd.net/files/odsp-web-prod_2021-03-26_20210330.001/\\';\\r\\n    window.__backupBaseUrl = backupBaseUrl;\\r\\n    var failOverState = window.__cdnFailOverState = {\\r\\n        baseUrlFailedOver: false,\\r\\n        modulesFalledBack: []\\r\\n    };\\r\\n    function processConfigToSupportFailOver(config) {\\r\\n        var paths = {};\\r\\n        for (var bundleId in config.bundles) {\\r\\n            var bundlePath = config.paths[bundleId];\\r\\n            var fallbackPaths = [bundlePath, backupBaseUrl + bundlePath];\\r\\n            for (var _i = 0, _a = config.bundles[bundleId]; _i < _a.length; _i++) {\\r\\n                var moduleName = _a[_i];\\r\\n                paths[moduleName] = fallbackPaths;\\r\\n            }\\r\\n        }\\r\\n        return {\\r\\n            paths: paths,\\r\\n            shim: config.shim,\\r\\n            deps: config.deps,\\r\\n            baseUrl: config.baseUrl,\\r\\n            waitSeconds: config.waitSeconds,\\r\\n            onNodeCreated: config.onNodeCreated,\\r\\n            enforceDefine: config.enforceDefine,\\r\\n            onPathFallback: function (options) {\\r\\n                var moduleId = options.moduleId;\\r\\n                var config = options.config;\\r\\n                if (moduleId && config && config.deps && config.deps.indexOf(moduleId) >= 0) {\\r\\n                    var failedModules = failOverState.modulesFalledBack;\\r\\n                    failedModules.push(moduleId);\\r\\n                    if (!failOverState.baseUrlFailedOver && failedModules.length >= 2) {\\r\\n                        require.config({\\r\\n                            baseUrl: backupBaseUrl\\r\\n                        });\\r\\n                        failOverState.baseUrlFailedOver = true;\\r\\n                    }\\r\\n                }\\r\\n            }\\r\\n        };\\r\\n    }\\r\\n    var config = {paths:{\"plt.resx-plt.chunk\":\"wachostwebpack/ja/plt.resx-plt.chunk\",\"wachostwebpack\":\"wachostwebpack/wachostwebpack\",\"odsp.aria.lib\":\"https://modern.akamai.odsp.cdn.office.net/files/odsp-web-prod_2021-02-19_20210223.001/odsp.aria/odsp.aria.lib\",\"odsp.react.lib\":\"https://modern.akamai.odsp.cdn.office.net/files/odsp-web-prod_2021-02-19_20210223.001/odsp.react/odsp.react.lib\",\"odm\":\"odm\"},bundles:{\"plt.resx-plt.chunk\":[\"plt.resx-plt\"],\"wachostwebpack\":[\"odsp-next/roots/WacHost\"],\"odsp.aria.lib\":[\"odsp.aria.lib\"],\"odsp.react.lib\":[\"odsp.react.lib\"]},shim:{},deps:[\"plt.resx-plt\",\"odsp-next/roots/WacHost\",\"odsp.aria.lib\",\"odsp.react.lib\"],baseUrl:\"https:\\\\u002f\\\\u002fmodern.akamai.odsp.cdn.office.net\\\\u002ffiles\\\\u002fodsp-web-prod_2021-03-26_20210330.001\\\\u002f\",waitSeconds:0,onNodeCreated:function(n,c,m,u) {\\r\\nn.setAttribute(\"crossorigin\",\"anonymous\");\\r\\nvar urlParts = u.split(\\'/\\');\\r\\nvar fileName = urlParts[urlParts.length - 1];\\r\\nvar odspSriHashes = window.__odspSriHashes;\\r\\nvar integrity = odspSriHashes && (odspSriHashes[window.__odsp_culture + \\'/\\' + fileName] || odspSriHashes[fileName]);\\r\\nif (integrity) {\\r\\n    n.setAttribute(\"integrity\",integrity);\\r\\n}\\r\\n},enforceDefine:false};\\r\\n    var newConfig = processConfigToSupportFailOver(config);\\r\\n    window.performance && performance.mark(\\'EUPL.RequireConfigStart\\');\\r\\n    require.config(newConfig);\\r\\n}();\\r\\n\\r\\n</script><script type=\"text/javascript\">\\r\\n\\twindow[\"_spModuleLink\"]={\"buildNumber\":\"odsp-web-prod_2021-03-26_20210330.001\",\"manifestName\":\"WacHostWebPack\",\"scenarioName\":\"WacHostWebPack\",\"usingRedirectCookie\":false,\"libraries\":[{\"buildNumber\":\"odsp-web-prod_2021-02-19_20210223.001\",\"manifestName\":\"odsp.react\",\"usingRedirectCookie\":false},{\"buildNumber\":\"odsp-web-prod_2021-02-19_20210223.001\",\"manifestName\":\"odsp.aria\",\"usingRedirectCookie\":false}],\"bugLinkFormat\":null,\"ulsLinkFormat\":null};\\r\\n</script>\\r\\n\\t  \\r\\n\\t  <script>\\r\\n\\t\\t\\tloadWacHost(function (wacHost) {ULSnv4:;\\r\\n\\t\\t\\t\\t\\tif (wacHost && wacHost.resetUrl) {\\r\\n\\t\\t\\t\\t\\t\\twacHost.resetUrl(null);\\r\\n\\t\\t\\t\\t\\t}\\r\\n\\t\\t\\t\\t});\\r\\n\\t  </script>\\r\\n\\t</body>\\r\\n</html>\\r\\n<script type=\"text/javascript\" nonce=\"f18dec39-1514-47c2-afd2-9150e9a9bd24\">\\r\\n\\tvar g_duration = 98;\\nvar g_iisLatency = 5;\\nvar g_cpuDuration = 79;\\nvar g_queryCount = 4;\\nvar g_queryDuration = 9;\\nvar g_requireJSDone = new Date().getTime();\\r\\n</script>'"
      ]
     },
     "execution_count": 76,
     "metadata": {},
     "output_type": "execute_result"
    }
   ],
   "source": [
    "response.content"
   ]
  },
  {
   "cell_type": "code",
   "execution_count": 182,
   "id": "expressed-ensemble",
   "metadata": {},
   "outputs": [
    {
     "name": "stderr",
     "output_type": "stream",
     "text": [
      "c:\\users\\tsubasa.ohmura\\appdata\\local\\programs\\python\\python38\\lib\\site-packages\\ipykernel\\ipkernel.py:283: DeprecationWarning: `should_run_async` will not call `transform_cell` automatically in the future. Please pass the result to `transformed_cell` argument and any exception that happen during thetransform in `preprocessing_exc_tuple` in IPython 7.17 and above.\n",
      "  and should_run_async(code)\n"
     ]
    }
   ],
   "source": [
    "import os\n",
    "import shutil\n",
    "import requests\n",
    "from requests_ntlm import HttpNtlmAuth\n",
    "\n",
    "url = 'https://www.asus.com/microsite/ASUS-X-GUNDAM/jp/websites/img/gundam/gundam-suit.png'\n",
    "\n",
    "res = requests.get(url, stream=True)\n",
    "if res.ok:\n",
    "    print('ok')\n"
   ]
  },
  {
   "cell_type": "code",
   "execution_count": 183,
   "id": "upset-criterion",
   "metadata": {},
   "outputs": [
    {
     "name": "stderr",
     "output_type": "stream",
     "text": [
      "c:\\users\\tsubasa.ohmura\\appdata\\local\\programs\\python\\python38\\lib\\site-packages\\ipykernel\\ipkernel.py:283: DeprecationWarning: `should_run_async` will not call `transform_cell` automatically in the future. Please pass the result to `transformed_cell` argument and any exception that happen during thetransform in `preprocessing_exc_tuple` in IPython 7.17 and above.\n",
      "  and should_run_async(code)\n"
     ]
    },
    {
     "data": {
      "text/plain": [
       "<Response [403]>"
      ]
     },
     "execution_count": 183,
     "metadata": {},
     "output_type": "execute_result"
    }
   ],
   "source": [
    "res"
   ]
  },
  {
   "cell_type": "code",
   "execution_count": null,
   "id": "distant-elevation",
   "metadata": {},
   "outputs": [],
   "source": []
  },
  {
   "cell_type": "code",
   "execution_count": null,
   "id": "palestinian-ultimate",
   "metadata": {},
   "outputs": [],
   "source": []
  },
  {
   "cell_type": "code",
   "execution_count": null,
   "id": "resident-hostel",
   "metadata": {},
   "outputs": [],
   "source": []
  },
  {
   "cell_type": "code",
   "execution_count": null,
   "id": "moved-guess",
   "metadata": {},
   "outputs": [],
   "source": []
  }
 ],
 "metadata": {
  "kernelspec": {
   "display_name": "Python 3",
   "language": "python",
   "name": "python3"
  },
  "language_info": {
   "codemirror_mode": {
    "name": "ipython",
    "version": 3
   },
   "file_extension": ".py",
   "mimetype": "text/x-python",
   "name": "python",
   "nbconvert_exporter": "python",
   "pygments_lexer": "ipython3",
   "version": "3.8.5"
  }
 },
 "nbformat": 4,
 "nbformat_minor": 5
}
